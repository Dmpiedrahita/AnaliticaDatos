{
 "cells": [
  {
   "cell_type": "markdown",
   "metadata": {},
   "source": [
    "# Taller Python Standard Library 20%\n",
    "## Hacer 8 de los 15 ejercicios\n",
    "Ingrese su nombre, número de cédula y correo en la siguiente celda como comentario."
   ]
  },
  {
   "cell_type": "code",
   "execution_count": null,
   "metadata": {},
   "outputs": [],
   "source": [
    "# Nombre: Daniel Muñetón Piedrahita\n",
    "# CC: 1214721642\n",
    "# Correo: daniel_muneton92111@elpoli.edu.co"
   ]
  },
  {
   "cell_type": "markdown",
   "metadata": {},
   "source": [
    "# Descripción"
   ]
  },
  {
   "cell_type": "markdown",
   "metadata": {},
   "source": [
    "Esta tarea tiene como fin ayudarlo a profundizar sus conocimientos en programación con el lenguaje Python usando la PSL (Python Standard Library). En la siguiente celda importaré algunas librerias y leeré algunos archivos por usted."
   ]
  },
  {
   "cell_type": "code",
   "execution_count": 3,
   "metadata": {},
   "outputs": [],
   "source": [
    "# Ejecutar esta linea primero para cargar los archivos necesarios\n",
    "# Si aparece un error se debe verificar que la carpeta files este en la misma carpeta que este archivo\n",
    "import csv\n",
    "\n",
    "with open('files/customer',    'r') as f: customer    = list(csv.reader(f, delimiter=',', quoting=csv.QUOTE_NONNUMERIC))\n",
    "with open('files/employee',    'r') as f: employee    = list(csv.reader(f, delimiter=',', quoting=csv.QUOTE_NONNUMERIC))\n",
    "with open('files/family',      'r') as f: family      = list(csv.reader(f, delimiter=',', quoting=csv.QUOTE_NONNUMERIC))\n",
    "with open('files/order2000',   'r') as f: order2000   = list(csv.reader(f, delimiter=',', quoting=csv.QUOTE_NONNUMERIC))\n",
    "with open('files/order2001',   'r') as f: order2001   = list(csv.reader(f, delimiter=',', quoting=csv.QUOTE_NONNUMERIC))\n",
    "with open('files/order2002',   'r') as f: order2002   = list(csv.reader(f, delimiter=',', quoting=csv.QUOTE_NONNUMERIC))\n",
    "with open('files/order2003',   'r') as f: order2003   = list(csv.reader(f, delimiter=',', quoting=csv.QUOTE_NONNUMERIC))\n",
    "with open('files/order2004',   'r') as f: order2004   = list(csv.reader(f, delimiter=',', quoting=csv.QUOTE_NONNUMERIC))\n",
    "with open('files/order2005',   'r') as f: order2005   = list(csv.reader(f, delimiter=',', quoting=csv.QUOTE_NONNUMERIC))\n",
    "with open('files/order2006',   'r') as f: order2006   = list(csv.reader(f, delimiter=',', quoting=csv.QUOTE_NONNUMERIC))\n",
    "with open('files/order2007',   'r') as f: order2007   = list(csv.reader(f, delimiter=',', quoting=csv.QUOTE_NONNUMERIC))\n",
    "with open('files/order2008',   'r') as f: order2008   = list(csv.reader(f, delimiter=',', quoting=csv.QUOTE_NONNUMERIC))\n",
    "with open('files/order2009',   'r') as f: order2009   = list(csv.reader(f, delimiter=',', quoting=csv.QUOTE_NONNUMERIC))\n",
    "with open('files/order2010',   'r') as f: order2010   = list(csv.reader(f, delimiter=',', quoting=csv.QUOTE_NONNUMERIC))\n",
    "with open('files/order2011',   'r') as f: order2011   = list(csv.reader(f, delimiter=',', quoting=csv.QUOTE_NONNUMERIC))\n",
    "with open('files/order2012',   'r') as f: order2012   = list(csv.reader(f, delimiter=',', quoting=csv.QUOTE_NONNUMERIC))\n",
    "with open('files/order2013',   'r') as f: order2013   = list(csv.reader(f, delimiter=',', quoting=csv.QUOTE_NONNUMERIC))\n",
    "with open('files/order2014',   'r') as f: order2014   = list(csv.reader(f, delimiter=',', quoting=csv.QUOTE_NONNUMERIC))\n",
    "with open('files/order2015',   'r') as f: order2015   = list(csv.reader(f, delimiter=',', quoting=csv.QUOTE_NONNUMERIC))\n",
    "with open('files/order2016',   'r') as f: order2016   = list(csv.reader(f, delimiter=',', quoting=csv.QUOTE_NONNUMERIC))\n",
    "with open('files/orderdetail', 'r') as f: orderdetail = list(csv.reader(f, delimiter=',', quoting=csv.QUOTE_NONNUMERIC))\n",
    "with open('files/product',     'r') as f: product     = list(csv.reader(f, delimiter=',', quoting=csv.QUOTE_NONNUMERIC))\n",
    "with open('files/supplier',    'r') as f: supplier    = list(csv.reader(f, delimiter=',', quoting=csv.QUOTE_NONNUMERIC))"
   ]
  },
  {
   "cell_type": "markdown",
   "metadata": {},
   "source": [
    "# Problema 1"
   ]
  },
  {
   "cell_type": "markdown",
   "metadata": {},
   "source": [
    "Imprima el valor del campo `ssn` (uno por línea) para los registros 2, 6 y 8 del archivo `employee`."
   ]
  },
  {
   "cell_type": "code",
   "execution_count": null,
   "metadata": {},
   "outputs": [
    {
     "name": "stdout",
     "output_type": "stream",
     "text": [
      "2\n",
      "(04)-1289-1406\n",
      "6\n",
      "(06)-2345-5542\n",
      "8\n",
      "(04)-1289-4949\n"
     ]
    }
   ],
   "source": [
    "# Respuesta\n",
    "# 496-99-2998\n",
    "# 323-35-2171\n",
    "# 496-24-5751\n",
    "\n",
    "for i in (2, 6, 8):\n",
    "    print(employee[i][5])\n"
   ]
  },
  {
   "cell_type": "markdown",
   "metadata": {},
   "source": [
    "\n",
    "# Problema 2"
   ]
  },
  {
   "cell_type": "markdown",
   "metadata": {},
   "source": [
    "Imprima el total de registros (uno por línea) para los archivos `employee`, `product` y `orderdetail` sin contar los encabezados."
   ]
  },
  {
   "cell_type": "code",
   "execution_count": 29,
   "metadata": {},
   "outputs": [
    {
     "name": "stdout",
     "output_type": "stream",
     "text": [
      "50\n",
      "146\n",
      "25946\n"
     ]
    }
   ],
   "source": [
    "# Respuesta\n",
    "# 50\n",
    "# 146\n",
    "# 25946\n",
    "\n",
    "print(len(employee)-1)\n",
    "print(len(product)-1)\n",
    "print(len(orderdetail)-1)"
   ]
  },
  {
   "cell_type": "markdown",
   "metadata": {},
   "source": [
    "# Problema 3"
   ]
  },
  {
   "cell_type": "markdown",
   "metadata": {},
   "source": [
    "Escriba una función `f` que reciba el nombre de un departamento y cuente cuantos registros hay para dicho departamento en el archivo `employee`. "
   ]
  },
  {
   "cell_type": "code",
   "execution_count": 39,
   "metadata": {},
   "outputs": [
    {
     "name": "stdout",
     "output_type": "stream",
     "text": [
      "3\n",
      "21\n"
     ]
    }
   ],
   "source": [
    "def numberDepartment(department):\n",
    "    count = 0\n",
    "    for registro in employee:\n",
    "        if(registro[3] == department):\n",
    "            count += 1\n",
    "    return count\n",
    "    \n",
    "\n",
    "print(numberDepartment(\"Advertising\")) # Respuesta 3\n",
    "print(numberDepartment(\"Sales and Marketing\")) # Respuesta 21"
   ]
  },
  {
   "cell_type": "markdown",
   "metadata": {},
   "source": [
    "# Problema 4"
   ]
  },
  {
   "cell_type": "markdown",
   "metadata": {},
   "source": [
    "\n",
    "Imprima una tabla con la cantidad de empleados nacidos por año, ordenada por año y un año por línea. Use un espacio en blanco para separar el año y la cantidad de personas; por ejemplo, '1969 2'. "
   ]
  },
  {
   "cell_type": "code",
   "execution_count": 52,
   "metadata": {},
   "outputs": [
    {
     "name": "stdout",
     "output_type": "stream",
     "text": [
      "1969 2\n",
      "1970 2\n",
      "1971 5\n",
      "1972 1\n",
      "1973 1\n",
      "1974 1\n",
      "1975 2\n",
      "1976 4\n",
      "1977 3\n",
      "1978 1\n",
      "1979 5\n",
      "1980 4\n",
      "1981 2\n",
      "1982 2\n",
      "1983 1\n",
      "1984 2\n",
      "1985 3\n",
      "1986 3\n",
      "1987 1\n",
      "1988 3\n",
      "1990 2\n"
     ]
    }
   ],
   "source": [
    "from datetime import datetime\n",
    "\n",
    "result = {}\n",
    "for register in employee[1:]:  # Skip header\n",
    "    year = datetime.strptime(register[8], \"%a+%Y-%m-%d+%H:%M:%S\").year\n",
    "    result[year] = result.get(year, 0) + 1\n",
    "\n",
    "for year in sorted(result):\n",
    "    print(year, result[year])\n",
    "\n",
    "\n",
    "# Respuesta\n",
    "# 1969 2\n",
    "# 1970 2\n",
    "# 1971 5\n",
    "# 1972 1\n",
    "# 1973 1\n",
    "# 1974 1\n",
    "# 1975 2\n",
    "# 1976 4\n",
    "# 1977 3\n",
    "# 1978 1\n",
    "# 1979 5\n",
    "# 1980 4\n",
    "# 1981 2\n",
    "# 1982 2\n",
    "# 1983 1\n",
    "# 1984 2\n",
    "# 1985 3\n",
    "# 1986 3\n",
    "# 1987 1\n",
    "# 1988 3\n",
    "# 1990 2"
   ]
  },
  {
   "cell_type": "markdown",
   "metadata": {},
   "source": [
    "# Problema 5"
   ]
  },
  {
   "cell_type": "markdown",
   "metadata": {},
   "source": [
    "Imprima una lista con las ciudades del archivo `employee` ordenadas alfabéticamente y sin repetir ciudad. Imprima una ciudad por renglón. "
   ]
  },
  {
   "cell_type": "code",
   "execution_count": 55,
   "metadata": {},
   "outputs": [
    {
     "name": "stdout",
     "output_type": "stream",
     "text": [
      "BELLEFONTE\n",
      "BLAINE\n",
      "BURNS FLAT\n",
      "CEDAR HILL\n",
      "CHANCELLOR\n",
      "CHARLOTTESVILLE\n",
      "CHESHIRE\n",
      "COPELAND\n",
      "FT MITCHELL\n",
      "GARRISON\n",
      "GRANDVIEW\n",
      "MANISTIQUE\n",
      "MONTCLAIR\n",
      "PAWCATUCK\n",
      "RIDGEFIELD\n",
      "RUIDOSO\n",
      "SANTA BARBARA\n",
      "SARASOTA\n",
      "TALLASSEE\n",
      "TAWAS CITY\n",
      "TEHACHAPI\n",
      "TERRA\n",
      "WINTER HAVEN\n",
      "city\n"
     ]
    }
   ],
   "source": [
    "cities = {}\n",
    "for registro in employee:\n",
    "    cities.setdefault(registro[6], 0)\n",
    "    \n",
    "for city in sorted(cities.keys()):\n",
    "    print(city)\n",
    "\n",
    "# Respuesta\n",
    "# BELLEFONTE\n",
    "# BLAINE\n",
    "# BURNS FLAT\n",
    "# CEDAR HILL\n",
    "# CHANCELLOR\n",
    "# CHARLOTTESVILLE\n",
    "# CHESHIRE\n",
    "# COPELAND\n",
    "# FT MITCHELL\n",
    "# GARRISON\n",
    "# GRANDVIEW\n",
    "# MANISTIQUE\n",
    "# MONTCLAIR\n",
    "# PAWCATUCK\n",
    "# RIDGEFIELD\n",
    "# RUIDOSO\n",
    "# SANTA BARBARA\n",
    "# SARASOTA\n",
    "# TALLASSEE\n",
    "# TAWAS CITY\n",
    "# TEHACHAPI\n",
    "# TERRA\n",
    "# WINTER HAVEN"
   ]
  },
  {
   "cell_type": "markdown",
   "metadata": {},
   "source": [
    "# Problema 6"
   ]
  },
  {
   "cell_type": "markdown",
   "metadata": {},
   "source": [
    "Imprima una lista con las ciudades del archivo `employee` ordenadas alfabéticamente indicando cuántas veces aparece cada ciudad en el archivo. Imprima una ciudad por renglón. Separe la ciudad y la cantidad por un espacio en blanco; por ejemplo: 'BELLEFONTE 3'."
   ]
  },
  {
   "cell_type": "code",
   "execution_count": 57,
   "metadata": {},
   "outputs": [
    {
     "name": "stdout",
     "output_type": "stream",
     "text": [
      "BELLEFONTE 3\n",
      "BLAINE 1\n",
      "BURNS FLAT 2\n",
      "CEDAR HILL 2\n",
      "CHANCELLOR 2\n",
      "CHARLOTTESVILLE 1\n",
      "CHESHIRE 1\n",
      "COPELAND 5\n",
      "FT MITCHELL 1\n",
      "GARRISON 2\n",
      "GRANDVIEW 2\n",
      "MANISTIQUE 2\n",
      "MONTCLAIR 3\n",
      "PAWCATUCK 4\n",
      "RIDGEFIELD 1\n",
      "RUIDOSO 1\n",
      "SANTA BARBARA 2\n",
      "SARASOTA 5\n",
      "TALLASSEE 1\n",
      "TAWAS CITY 2\n",
      "TEHACHAPI 1\n",
      "TERRA 3\n",
      "WINTER HAVEN 3\n",
      "city 1\n"
     ]
    }
   ],
   "source": [
    "cities = {}\n",
    "for registro in employee:\n",
    "    cities[registro[6]] = cities.get(registro[6], 0) + 1\n",
    "    \n",
    "for city in sorted(cities):\n",
    "    print(city, cities[city])\n",
    "\n",
    "# Respuesta\n",
    "# BELLEFONTE 3\n",
    "# BLAINE 1\n",
    "# BURNS FLAT 2\n",
    "# CEDAR HILL 2\n",
    "# CHANCELLOR 2\n",
    "# CHARLOTTESVILLE 1\n",
    "# CHESHIRE 1\n",
    "# COPELAND 5\n",
    "# FT MITCHELL 1\n",
    "# GARRISON 2\n",
    "# GRANDVIEW 2\n",
    "# MANISTIQUE 2\n",
    "# MONTCLAIR 3\n",
    "# PAWCATUCK 4\n",
    "# RIDGEFIELD 1\n",
    "# RUIDOSO 1\n",
    "# SANTA BARBARA 2\n",
    "# SARASOTA 5\n",
    "# TALLASSEE 1\n",
    "# TAWAS CITY 2\n",
    "# TEHACHAPI 1\n",
    "# TERRA 3\n",
    "# WINTER HAVEN 3"
   ]
  },
  {
   "cell_type": "markdown",
   "metadata": {},
   "source": [
    "# Problema 7"
   ]
  },
  {
   "cell_type": "markdown",
   "metadata": {},
   "source": [
    "Imprima, por cada ciudad diferente del archivo `employee`, cuántos registros quedan si se eliminan todos los registros que contienen dicha ciudad. Imprima la lista ordenada alfabéticamente. Separe la ciudad y la cantidad usando un espacio en blanco; por ejemplo: `'BELLEFONTE 47'`."
   ]
  },
  {
   "cell_type": "code",
   "execution_count": 58,
   "metadata": {},
   "outputs": [
    {
     "name": "stdout",
     "output_type": "stream",
     "text": [
      "BELLEFONTE 21\n",
      "BLAINE 23\n",
      "BURNS FLAT 22\n",
      "CEDAR HILL 22\n",
      "CHANCELLOR 22\n",
      "CHARLOTTESVILLE 23\n",
      "CHESHIRE 23\n",
      "COPELAND 19\n",
      "FT MITCHELL 23\n",
      "GARRISON 22\n",
      "GRANDVIEW 22\n",
      "MANISTIQUE 22\n",
      "MONTCLAIR 21\n",
      "PAWCATUCK 20\n",
      "RIDGEFIELD 23\n",
      "RUIDOSO 23\n",
      "SANTA BARBARA 22\n",
      "SARASOTA 19\n",
      "TALLASSEE 23\n",
      "TAWAS CITY 22\n",
      "TEHACHAPI 23\n",
      "TERRA 21\n",
      "WINTER HAVEN 21\n",
      "city 23\n"
     ]
    }
   ],
   "source": [
    "cities = {}\n",
    "for registro in employee:\n",
    "    cities[registro[6]] = cities.get(registro[6], 0) + 1\n",
    "    \n",
    "for city in sorted(cities):\n",
    "    print(city, len(cities) - cities[city])\n",
    "# Respuesta\n",
    "# BELLEFONTE 47\n",
    "# BLAINE 49\n",
    "# BURNS FLAT 48\n",
    "# CEDAR HILL 48\n",
    "# CHANCELLOR 48\n",
    "# CHARLOTTESVILLE 49\n",
    "# CHESHIRE 49\n",
    "# COPELAND 45\n",
    "# FT MITCHELL 49\n",
    "# GARRISON 48\n",
    "# GRANDVIEW 48\n",
    "# MANISTIQUE 48\n",
    "# MONTCLAIR 47\n",
    "# PAWCATUCK 46\n",
    "# RIDGEFIELD 49\n",
    "# RUIDOSO 49\n",
    "# SANTA BARBARA 48\n",
    "# SARASOTA 45\n",
    "# TALLASSEE 49\n",
    "# TAWAS CITY 48\n",
    "# TEHACHAPI 49\n",
    "# TERRA 47\n",
    "# WINTER HAVEN 47"
   ]
  },
  {
   "cell_type": "markdown",
   "metadata": {},
   "source": [
    "# Problema 8"
   ]
  },
  {
   "cell_type": "markdown",
   "metadata": {},
   "source": [
    "Escriba una función que reciba el nombre completo de un hijo (campo `fullname` del archivo `family`), y devuelva el primer nombre (`fullname`) del padre en el archivo `employee`. "
   ]
  },
  {
   "cell_type": "code",
   "execution_count": null,
   "metadata": {},
   "outputs": [
    {
     "name": "stdout",
     "output_type": "stream",
     "text": [
      "Cary Hartnett\n",
      "Jermaine Bailey\n"
     ]
    }
   ],
   "source": [
    "def findParent(childFullName):\n",
    "    for register in family:\n",
    "        if(register[2] == childFullName):\n",
    "            for registerEmployee in employee:\n",
    "                if register[1] == registerEmployee[1]:\n",
    "                    return(registerEmployee[2])\n",
    "\n",
    "\n",
    "print(findParent('Cecelia Hartnett'))  # Respuesta -> Cary Hartnett \n",
    "print(findParent('Verlie Bailey'))  # Respuesta -> Jermaine Bailey\n",
    "    \n"
   ]
  },
  {
   "cell_type": "markdown",
   "metadata": {},
   "source": [
    "# Problema 9"
   ]
  },
  {
   "cell_type": "markdown",
   "metadata": {},
   "source": [
    "Escriba una función que reciba el número de orden (`order.id`) y devuelva el nombre completo (`fullname`) del empleado que la atendio. La busqueda se debe realizar en todos los archivos de ordenes de los diferentes años."
   ]
  },
  {
   "cell_type": "code",
   "execution_count": 32,
   "metadata": {},
   "outputs": [
    {
     "name": "stdout",
     "output_type": "stream",
     "text": [
      "Christy Petry\n",
      "Damaris Parry\n",
      "Bailey Beasley\n",
      "Man Sapp\n",
      "Jodi Wetzel\n",
      "Carolynn Devine\n"
     ]
    }
   ],
   "source": [
    "allOrders = (\n",
    "    order2000 + order2001 + order2002 + order2003 +\n",
    "    order2004 + order2005 + order2006 + order2007 +\n",
    "    order2008 + order2009 + order2010 + order2011 +\n",
    "    order2012 + order2013 + order2014 + order2015 +\n",
    "    order2016\n",
    ")\n",
    "\n",
    "def searchEmployeeByOrderId(orderId):\n",
    "    for order in allOrders:\n",
    "        if(orderId == order[1]):\n",
    "            for registerEmployee in employee:\n",
    "                if(order[3] == registerEmployee[1]):\n",
    "                    return(registerEmployee[2])\n",
    "                \n",
    "\n",
    "        \n",
    "    \n",
    "print(searchEmployeeByOrderId((309))) # Respuesta -> Christy Petry\n",
    "print(searchEmployeeByOrderId((653))) # Respuesta -> Damaris Parry\n",
    "print(searchEmployeeByOrderId((996))) # Respuesta -> Bailey Beasley\n",
    "print(searchEmployeeByOrderId((1))) # Respuesta -> Man Sapp\n",
    "print(searchEmployeeByOrderId((24))) # Respuesta -> Jodi Wetzel\n",
    "print(searchEmployeeByOrderId((500))) # Respuesta -> Carolynn Devine"
   ]
  },
  {
   "cell_type": "markdown",
   "metadata": {},
   "source": [
    "# Problema 10"
   ]
  },
  {
   "cell_type": "markdown",
   "metadata": {},
   "source": [
    "Escriba una función que reciba el número de orden (`order.id`) y devuelva el nombre completo (`fullname`) del cliente que la solicitó. La busqueda se debe realizar en todos los archivos de ordenes de los diferentes años."
   ]
  },
  {
   "cell_type": "code",
   "execution_count": 42,
   "metadata": {},
   "outputs": [
    {
     "name": "stdout",
     "output_type": "stream",
     "text": [
      "Carmen Zimmerman\n",
      "Theodore Pernell\n",
      "Marilynn Laws\n",
      "Bobbie Goodman\n",
      "Latoya Albrecht\n",
      "Bill Ford\n"
     ]
    }
   ],
   "source": [
    "allOrders = (\n",
    "    order2000 + order2001 + order2002 + order2003 +\n",
    "    order2004 + order2005 + order2006 + order2007 +\n",
    "    order2008 + order2009 + order2010 + order2011 +\n",
    "    order2012 + order2013 + order2014 + order2015 +\n",
    "    order2016\n",
    ")\n",
    "\n",
    "\n",
    "def searchCostumerByOrderId(orderId):\n",
    "        for order in allOrders:\n",
    "            if(orderId == order[1]):\n",
    "                for registerCostumer in customer:\n",
    "                    if(order[2] == registerCostumer[0]):\n",
    "                        return(registerCostumer[3])\n",
    "    \n",
    "print(searchCostumerByOrderId(309)) # Respuesta -> Carmen Zimmerman\n",
    "print(searchCostumerByOrderId(653)) # Respuesta -> Theodore Pernell\n",
    "print(searchCostumerByOrderId(996)) # Respuesta -> Marilynn Laws\n",
    "print(searchCostumerByOrderId(1)) # Respuesta -> Bobbie Goodman\n",
    "print(searchCostumerByOrderId(24)) # Respuesta -> Latoya Albrecht\n",
    "print(searchCostumerByOrderId(500)) # Respuesta -> Bill Ford"
   ]
  },
  {
   "cell_type": "markdown",
   "metadata": {},
   "source": [
    "# Problema 11"
   ]
  },
  {
   "cell_type": "markdown",
   "metadata": {},
   "source": [
    "Escriba una función que reciba el nombre de un empleado (`fullname`) y retorne la cantidad de órdenes atendidas por él. La busqueda se debe realizar en todos los archivos de ordenes de los diferentes años."
   ]
  },
  {
   "cell_type": "code",
   "execution_count": null,
   "metadata": {},
   "outputs": [],
   "source": [
    "def f(full_name):\n",
    "    \n",
    "print(f('Christy Petry')) # Respuesta -> 238\n",
    "print(f('Gisela Strong')) # Respuesta -> 225\n",
    "print(f('Ellis Ervin')) # Respuesta -> 270\n",
    "print(f(\"Man Sapp\")) # Respuesta -> 244\n",
    "print(f(\"Jodi Wetzel\")) # Respuesta -> 208\n",
    "print(f(\"Carolynn Devine\")) # Respuesta -> 289"
   ]
  },
  {
   "cell_type": "markdown",
   "metadata": {},
   "source": [
    "# Problema 12"
   ]
  },
  {
   "cell_type": "markdown",
   "metadata": {},
   "source": [
    "Escriba una función que reciba el nombre de un empleado y retorne el valor mínino del campo `order.id` del total de ordenes que atendió. La busqueda se debe realizar en todos los archivos de ordenes de los diferentes años."
   ]
  },
  {
   "cell_type": "code",
   "execution_count": null,
   "metadata": {},
   "outputs": [],
   "source": [
    "def f(full_name):\n",
    "    \n",
    "print(f('Christy Petry')) # Respuesta -> 14\n",
    "print(f('Gisela Strong')) # Respuesta -> 27\n",
    "print(f('Ellis Ervin')) # Respuesta -> 20\n",
    "print(f(\"Man Sapp\")) # Respuesta -> 1\n",
    "print(f(\"Jodi Wetzel\")) # Respuesta -> 24\n",
    "print(f(\"Carolynn Devine\")) # Respuesta -> 15"
   ]
  },
  {
   "cell_type": "markdown",
   "metadata": {},
   "source": [
    "# Problema 13"
   ]
  },
  {
   "cell_type": "markdown",
   "metadata": {},
   "source": [
    "Escriba una función que reciba el `order.id` de una orden y retorne el cálculo del valor total de la orden. Buscar en el archivo `orderdetail` y realizar la operación entre `quantity` y `price`."
   ]
  },
  {
   "cell_type": "code",
   "execution_count": null,
   "metadata": {},
   "outputs": [],
   "source": [
    "def f(orderid):\n",
    "    \n",
    "print(f(8)) # Respuesta -> 5450\n",
    "print(f(24)) # Respuesta -> 3750\n",
    "print(f(500)) # Respuesta -> 7943\n",
    "print(f(1)) # Respuesta -> 2572\n",
    "print(f(2)) # Respuesta -> 2979\n",
    "print(f(3)) # Respuesta -> 9317"
   ]
  },
  {
   "cell_type": "markdown",
   "metadata": {},
   "source": [
    "# Problema 14"
   ]
  },
  {
   "cell_type": "markdown",
   "metadata": {},
   "source": [
    "Imprima la cantidad de empleados que nacieron en cada uno de los trimestres (`Q1`, `Q2`, `Q3`, `Q4`) del año. Imprima un trimestre por reglón, separando las cantidades por un espacio en blanco. Por ejemplo: `'Q1 18'`. "
   ]
  },
  {
   "cell_type": "code",
   "execution_count": null,
   "metadata": {},
   "outputs": [],
   "source": [
    "# Respuesta\n",
    "# Q1 16\n",
    "# Q2 9\n",
    "# Q3 14\n",
    "# Q4 11"
   ]
  },
  {
   "cell_type": "markdown",
   "metadata": {},
   "source": [
    "# Problema 15"
   ]
  },
  {
   "cell_type": "markdown",
   "metadata": {},
   "source": [
    "Escriba una función que reciba un grupo de cuatro dígitos e imprima la cantidad de veces que aparece dicho número en el segundo grupo de dígitos de todos los números telefónicos. Buscar en los diferentes archivos que tengan números de teléfono."
   ]
  },
  {
   "cell_type": "code",
   "execution_count": null,
   "metadata": {},
   "outputs": [],
   "source": [
    "def f(number):\n",
    "    \n",
    "print(f(\"1234\")) # Respuesta -> 31\n",
    "print(f(\"8976\")) # Respuesta -> 32\n",
    "print(f(\"1289\")) # Respuesta -> 23\n",
    "print(f(\"2345\")) # Respuesta -> 28\n",
    "print(f(\"4876\")) # Respuesta -> 26"
   ]
  },
  {
   "cell_type": "markdown",
   "metadata": {},
   "source": [
    "---"
   ]
  }
 ],
 "metadata": {
  "kernelspec": {
   "display_name": "Python 3",
   "language": "python",
   "name": "python3"
  },
  "language_info": {
   "codemirror_mode": {
    "name": "ipython",
    "version": 3
   },
   "file_extension": ".py",
   "mimetype": "text/x-python",
   "name": "python",
   "nbconvert_exporter": "python",
   "pygments_lexer": "ipython3",
   "version": "3.13.7"
  }
 },
 "nbformat": 4,
 "nbformat_minor": 1
}
