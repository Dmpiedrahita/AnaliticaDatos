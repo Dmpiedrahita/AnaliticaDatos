{
 "cells": [
  {
   "cell_type": "markdown",
   "metadata": {},
   "source": [
    "# Taller Python Standard Library 20%\n",
    "## Hacer 8 de los 15 ejercicios\n",
    "Ingrese su nombre, número de cédula y correo en la siguiente celda como comentario."
   ]
  },
  {
   "cell_type": "code",
   "execution_count": null,
   "metadata": {},
   "outputs": [],
   "source": [
    "# Nombre:\n",
    "# CC:\n",
    "# Correo:"
   ]
  },
  {
   "cell_type": "markdown",
   "metadata": {},
   "source": [
    "# Descripción"
   ]
  },
  {
   "cell_type": "markdown",
   "metadata": {},
   "source": [
    "Esta tarea tiene como fin ayudarlo a profundizar sus conocimientos en programación con el lenguaje Python usando la PSL (Python Standard Library). En la siguiente celda importaré algunas librerias y leeré algunos archivos por usted."
   ]
  },
  {
   "cell_type": "code",
   "execution_count": null,
   "metadata": {},
   "outputs": [],
   "source": [
    "# Ejecutar esta linea primero para cargar los archivos necesarios\n",
    "# Si aparece un error se debe verificar que la carpeta files este en la misma carpeta que este archivo\n",
    "import csv\n",
    "\n",
    "with open('files/customer',    'r') as f: customer    = list(csv.reader(f, delimiter=',', quoting=csv.QUOTE_NONNUMERIC))\n",
    "with open('files/employee',    'r') as f: employee    = list(csv.reader(f, delimiter=',', quoting=csv.QUOTE_NONNUMERIC))\n",
    "with open('files/family',      'r') as f: family      = list(csv.reader(f, delimiter=',', quoting=csv.QUOTE_NONNUMERIC))\n",
    "with open('files/order2000',   'r') as f: order2000   = list(csv.reader(f, delimiter=',', quoting=csv.QUOTE_NONNUMERIC))\n",
    "with open('files/order2001',   'r') as f: order2001   = list(csv.reader(f, delimiter=',', quoting=csv.QUOTE_NONNUMERIC))\n",
    "with open('files/order2002',   'r') as f: order2002   = list(csv.reader(f, delimiter=',', quoting=csv.QUOTE_NONNUMERIC))\n",
    "with open('files/order2003',   'r') as f: order2003   = list(csv.reader(f, delimiter=',', quoting=csv.QUOTE_NONNUMERIC))\n",
    "with open('files/order2004',   'r') as f: order2004   = list(csv.reader(f, delimiter=',', quoting=csv.QUOTE_NONNUMERIC))\n",
    "with open('files/order2005',   'r') as f: order2005   = list(csv.reader(f, delimiter=',', quoting=csv.QUOTE_NONNUMERIC))\n",
    "with open('files/order2006',   'r') as f: order2006   = list(csv.reader(f, delimiter=',', quoting=csv.QUOTE_NONNUMERIC))\n",
    "with open('files/order2007',   'r') as f: order2007   = list(csv.reader(f, delimiter=',', quoting=csv.QUOTE_NONNUMERIC))\n",
    "with open('files/order2008',   'r') as f: order2008   = list(csv.reader(f, delimiter=',', quoting=csv.QUOTE_NONNUMERIC))\n",
    "with open('files/order2009',   'r') as f: order2009   = list(csv.reader(f, delimiter=',', quoting=csv.QUOTE_NONNUMERIC))\n",
    "with open('files/order2010',   'r') as f: order2010   = list(csv.reader(f, delimiter=',', quoting=csv.QUOTE_NONNUMERIC))\n",
    "with open('files/order2011',   'r') as f: order2011   = list(csv.reader(f, delimiter=',', quoting=csv.QUOTE_NONNUMERIC))\n",
    "with open('files/order2012',   'r') as f: order2012   = list(csv.reader(f, delimiter=',', quoting=csv.QUOTE_NONNUMERIC))\n",
    "with open('files/order2013',   'r') as f: order2013   = list(csv.reader(f, delimiter=',', quoting=csv.QUOTE_NONNUMERIC))\n",
    "with open('files/order2014',   'r') as f: order2014   = list(csv.reader(f, delimiter=',', quoting=csv.QUOTE_NONNUMERIC))\n",
    "with open('files/order2015',   'r') as f: order2015   = list(csv.reader(f, delimiter=',', quoting=csv.QUOTE_NONNUMERIC))\n",
    "with open('files/order2016',   'r') as f: order2016   = list(csv.reader(f, delimiter=',', quoting=csv.QUOTE_NONNUMERIC))\n",
    "with open('files/orderdetail', 'r') as f: orderdetail = list(csv.reader(f, delimiter=',', quoting=csv.QUOTE_NONNUMERIC))\n",
    "with open('files/product',     'r') as f: product     = list(csv.reader(f, delimiter=',', quoting=csv.QUOTE_NONNUMERIC))\n",
    "with open('files/supplier',    'r') as f: supplier    = list(csv.reader(f, delimiter=',', quoting=csv.QUOTE_NONNUMERIC))"
   ]
  },
  {
   "cell_type": "markdown",
   "metadata": {},
   "source": [
    "# Problema 1"
   ]
  },
  {
   "cell_type": "markdown",
   "metadata": {},
   "source": [
    "Imprima el valor del campo `ssn` (uno por línea) para los registros 2, 6 y 8 del archivo `employee`."
   ]
  },
  {
   "cell_type": "code",
   "execution_count": null,
   "metadata": {},
   "outputs": [],
   "source": [
    "# Respuesta\n",
    "# 496-99-2998\n",
    "# 323-35-2171\n",
    "# 496-24-5751"
   ]
  },
  {
   "cell_type": "markdown",
   "metadata": {},
   "source": [
    "\n",
    "# Problema 2"
   ]
  },
  {
   "cell_type": "markdown",
   "metadata": {},
   "source": [
    "Imprima el total de registros (uno por línea) para los archivos `employee`, `product` y `orderdetail` sin contar los encabezados."
   ]
  },
  {
   "cell_type": "code",
   "execution_count": null,
   "metadata": {},
   "outputs": [],
   "source": [
    "# Respuesta\n",
    "# 50\n",
    "# 146\n",
    "# 25946"
   ]
  },
  {
   "cell_type": "markdown",
   "metadata": {},
   "source": [
    "# Problema 3"
   ]
  },
  {
   "cell_type": "markdown",
   "metadata": {},
   "source": [
    "Escriba una función `f` que reciba el nombre de un departamento y cuente cuantos registros hay para dicho departamento en el archivo `employee`. "
   ]
  },
  {
   "cell_type": "code",
   "execution_count": null,
   "metadata": {},
   "outputs": [],
   "source": [
    "def f(department):\n",
    "    \n",
    "print(f(\"Advertising\")) # Respuesta 3\n",
    "print(f(\"Sales and Marketing\")) # Respuesta 21"
   ]
  },
  {
   "cell_type": "markdown",
   "metadata": {},
   "source": [
    "# Problema 4"
   ]
  },
  {
   "cell_type": "markdown",
   "metadata": {},
   "source": [
    "\n",
    "Imprima una tabla con la cantidad de empleados nacidos por año, ordenada por año y un año por línea. Use un espacio en blanco para separar el año y la cantidad de personas; por ejemplo, '1969 2'. "
   ]
  },
  {
   "cell_type": "code",
   "execution_count": null,
   "metadata": {},
   "outputs": [],
   "source": [
    "# Respuesta\n",
    "# 1969 2\n",
    "# 1970 2\n",
    "# 1971 5\n",
    "# 1972 1\n",
    "# 1973 1\n",
    "# 1974 1\n",
    "# 1975 2\n",
    "# 1976 4\n",
    "# 1977 3\n",
    "# 1978 1\n",
    "# 1979 5\n",
    "# 1980 4\n",
    "# 1981 2\n",
    "# 1982 2\n",
    "# 1983 1\n",
    "# 1984 2\n",
    "# 1985 3\n",
    "# 1986 3\n",
    "# 1987 1\n",
    "# 1988 3\n",
    "# 1990 2"
   ]
  },
  {
   "cell_type": "markdown",
   "metadata": {},
   "source": [
    "# Problema 5"
   ]
  },
  {
   "cell_type": "markdown",
   "metadata": {},
   "source": [
    "Imprima una lista con las ciudades del archivo `employee` ordenadas alfabéticamente y sin repetir ciudad. Imprima una ciudad por renglón. "
   ]
  },
  {
   "cell_type": "code",
   "execution_count": null,
   "metadata": {},
   "outputs": [],
   "source": [
    "# Respuesta\n",
    "# BELLEFONTE\n",
    "# BLAINE\n",
    "# BURNS FLAT\n",
    "# CEDAR HILL\n",
    "# CHANCELLOR\n",
    "# CHARLOTTESVILLE\n",
    "# CHESHIRE\n",
    "# COPELAND\n",
    "# FT MITCHELL\n",
    "# GARRISON\n",
    "# GRANDVIEW\n",
    "# MANISTIQUE\n",
    "# MONTCLAIR\n",
    "# PAWCATUCK\n",
    "# RIDGEFIELD\n",
    "# RUIDOSO\n",
    "# SANTA BARBARA\n",
    "# SARASOTA\n",
    "# TALLASSEE\n",
    "# TAWAS CITY\n",
    "# TEHACHAPI\n",
    "# TERRA\n",
    "# WINTER HAVEN"
   ]
  },
  {
   "cell_type": "markdown",
   "metadata": {},
   "source": [
    "# Problema 6"
   ]
  },
  {
   "cell_type": "markdown",
   "metadata": {},
   "source": [
    "Imprima una lista con las ciudades del archivo `employee` ordenadas alfabéticamente indicando cuántas veces aparece cada ciudad en el archivo. Imprima una ciudad por renglón. Separe la ciudad y la cantidad por un espacio en blanco; por ejemplo: 'BELLEFONTE 3'."
   ]
  },
  {
   "cell_type": "code",
   "execution_count": null,
   "metadata": {},
   "outputs": [],
   "source": [
    "# Respuesta\n",
    "# BELLEFONTE 3\n",
    "# BLAINE 1\n",
    "# BURNS FLAT 2\n",
    "# CEDAR HILL 2\n",
    "# CHANCELLOR 2\n",
    "# CHARLOTTESVILLE 1\n",
    "# CHESHIRE 1\n",
    "# COPELAND 5\n",
    "# FT MITCHELL 1\n",
    "# GARRISON 2\n",
    "# GRANDVIEW 2\n",
    "# MANISTIQUE 2\n",
    "# MONTCLAIR 3\n",
    "# PAWCATUCK 4\n",
    "# RIDGEFIELD 1\n",
    "# RUIDOSO 1\n",
    "# SANTA BARBARA 2\n",
    "# SARASOTA 5\n",
    "# TALLASSEE 1\n",
    "# TAWAS CITY 2\n",
    "# TEHACHAPI 1\n",
    "# TERRA 3\n",
    "# WINTER HAVEN 3"
   ]
  },
  {
   "cell_type": "markdown",
   "metadata": {},
   "source": [
    "# Problema 7"
   ]
  },
  {
   "cell_type": "markdown",
   "metadata": {},
   "source": [
    "Imprima, por cada ciudad diferente del archivo `employee`, cuántos registros quedan si se eliminan todos los registros que contienen dicha ciudad. Imprima la lista ordenada alfabéticamente. Separe la ciudad y la cantidad usando un espacio en blanco; por ejemplo: `'BELLEFONTE 47'`."
   ]
  },
  {
   "cell_type": "code",
   "execution_count": null,
   "metadata": {},
   "outputs": [],
   "source": [
    "# Respuesta\n",
    "# BELLEFONTE 47\n",
    "# BLAINE 49\n",
    "# BURNS FLAT 48\n",
    "# CEDAR HILL 48\n",
    "# CHANCELLOR 48\n",
    "# CHARLOTTESVILLE 49\n",
    "# CHESHIRE 49\n",
    "# COPELAND 45\n",
    "# FT MITCHELL 49\n",
    "# GARRISON 48\n",
    "# GRANDVIEW 48\n",
    "# MANISTIQUE 48\n",
    "# MONTCLAIR 47\n",
    "# PAWCATUCK 46\n",
    "# RIDGEFIELD 49\n",
    "# RUIDOSO 49\n",
    "# SANTA BARBARA 48\n",
    "# SARASOTA 45\n",
    "# TALLASSEE 49\n",
    "# TAWAS CITY 48\n",
    "# TEHACHAPI 49\n",
    "# TERRA 47\n",
    "# WINTER HAVEN 47"
   ]
  },
  {
   "cell_type": "markdown",
   "metadata": {},
   "source": [
    "# Problema 8"
   ]
  },
  {
   "cell_type": "markdown",
   "metadata": {},
   "source": [
    "Escriba una función que reciba el nombre completo de un hijo (campo `fullname` del archivo `family`), y devuelva el primer nombre (`fullname`) del padre en el archivo `employee`. "
   ]
  },
  {
   "cell_type": "code",
   "execution_count": null,
   "metadata": {},
   "outputs": [],
   "source": [
    "def f(child_full_name):\n",
    "    \n",
    "print(f(\"Cecelia Hartnett\")) # Respuesta -> Cary Hartnett\n",
    "print(f(\"Verlie Bailey\")) # Respuesta -> Jermaine Bailey"
   ]
  },
  {
   "cell_type": "markdown",
   "metadata": {},
   "source": [
    "# Problema 9"
   ]
  },
  {
   "cell_type": "markdown",
   "metadata": {},
   "source": [
    "Escriba una función que reciba el número de orden (`order.id`) y devuelva el nombre completo (`fullname`) del empleado que la atendio. La busqueda se debe realizar en todos los archivos de ordenes de los diferentes años."
   ]
  },
  {
   "cell_type": "code",
   "execution_count": null,
   "metadata": {},
   "outputs": [],
   "source": [
    "def f(order_id):\n",
    "    \n",
    "print(f(309)) # Respuesta -> Christy Petry\n",
    "print(f(653)) # Respuesta -> Damaris Parry\n",
    "print(f(996)) # Respuesta -> Bailey Beasley\n",
    "print(f(1)) # Respuesta -> Man Sapp\n",
    "print(f(24)) # Respuesta -> Jodi Wetzel\n",
    "print(f(500)) # Respuesta -> Carolynn Devine"
   ]
  },
  {
   "cell_type": "markdown",
   "metadata": {},
   "source": [
    "# Problema 10"
   ]
  },
  {
   "cell_type": "markdown",
   "metadata": {},
   "source": [
    "Escriba una función que reciba el número de orden (`order.id`) y devuelva el nombre completo (`fullname`) del cliente que la solicitó. La busqueda se debe realizar en todos los archivos de ordenes de los diferentes años."
   ]
  },
  {
   "cell_type": "code",
   "execution_count": null,
   "metadata": {},
   "outputs": [],
   "source": [
    "def f(order_id):\n",
    "    \n",
    "print(f(309)) # Respuesta -> Carmen Zimmerman\n",
    "print(f(653)) # Respuesta -> Theodore Pernell\n",
    "print(f(996)) # Respuesta -> Marilynn Laws\n",
    "print(f(1)) # Respuesta -> Bobbie Goodman\n",
    "print(f(24)) # Respuesta -> Latoya Albrecht\n",
    "print(f(500)) # Respuesta -> Bill Ford"
   ]
  },
  {
   "cell_type": "markdown",
   "metadata": {},
   "source": [
    "# Problema 11"
   ]
  },
  {
   "cell_type": "markdown",
   "metadata": {},
   "source": [
    "Escriba una función que reciba el nombre de un empleado (`fullname`) y retorne la cantidad de órdenes atendidas por él. La busqueda se debe realizar en todos los archivos de ordenes de los diferentes años."
   ]
  },
  {
   "cell_type": "code",
   "execution_count": null,
   "metadata": {},
   "outputs": [],
   "source": [
    "def f(full_name):\n",
    "    \n",
    "print(f('Christy Petry')) # Respuesta -> 238\n",
    "print(f('Gisela Strong')) # Respuesta -> 225\n",
    "print(f('Ellis Ervin')) # Respuesta -> 270\n",
    "print(f(\"Man Sapp\")) # Respuesta -> 244\n",
    "print(f(\"Jodi Wetzel\")) # Respuesta -> 208\n",
    "print(f(\"Carolynn Devine\")) # Respuesta -> 289"
   ]
  },
  {
   "cell_type": "markdown",
   "metadata": {},
   "source": [
    "# Problema 12"
   ]
  },
  {
   "cell_type": "markdown",
   "metadata": {},
   "source": [
    "Escriba una función que reciba el nombre de un empleado y retorne el valor mínino del campo `order.id` del total de ordenes que atendió. La busqueda se debe realizar en todos los archivos de ordenes de los diferentes años."
   ]
  },
  {
   "cell_type": "code",
   "execution_count": null,
   "metadata": {},
   "outputs": [],
   "source": [
    "def f(full_name):\n",
    "    \n",
    "print(f('Christy Petry')) # Respuesta -> 14\n",
    "print(f('Gisela Strong')) # Respuesta -> 27\n",
    "print(f('Ellis Ervin')) # Respuesta -> 20\n",
    "print(f(\"Man Sapp\")) # Respuesta -> 1\n",
    "print(f(\"Jodi Wetzel\")) # Respuesta -> 24\n",
    "print(f(\"Carolynn Devine\")) # Respuesta -> 15"
   ]
  },
  {
   "cell_type": "markdown",
   "metadata": {},
   "source": [
    "# Problema 13"
   ]
  },
  {
   "cell_type": "markdown",
   "metadata": {},
   "source": [
    "Escriba una función que reciba el `order.id` de una orden y retorne el cálculo del valor total de la orden. Buscar en el archivo `orderdetail` y realizar la operación entre `quantity` y `price`."
   ]
  },
  {
   "cell_type": "code",
   "execution_count": null,
   "metadata": {},
   "outputs": [],
   "source": [
    "def f(orderid):\n",
    "    \n",
    "print(f(8)) # Respuesta -> 5450\n",
    "print(f(24)) # Respuesta -> 3750\n",
    "print(f(500)) # Respuesta -> 7943\n",
    "print(f(1)) # Respuesta -> 2572\n",
    "print(f(2)) # Respuesta -> 2979\n",
    "print(f(3)) # Respuesta -> 9317"
   ]
  },
  {
   "cell_type": "markdown",
   "metadata": {},
   "source": [
    "# Problema 14"
   ]
  },
  {
   "cell_type": "markdown",
   "metadata": {},
   "source": [
    "Imprima la cantidad de empleados que nacieron en cada uno de los trimestres (`Q1`, `Q2`, `Q3`, `Q4`) del año. Imprima un trimestre por reglón, separando las cantidades por un espacio en blanco. Por ejemplo: `'Q1 18'`. "
   ]
  },
  {
   "cell_type": "code",
   "execution_count": null,
   "metadata": {},
   "outputs": [],
   "source": [
    "# Respuesta\n",
    "# Q1 16\n",
    "# Q2 9\n",
    "# Q3 14\n",
    "# Q4 11"
   ]
  },
  {
   "cell_type": "markdown",
   "metadata": {},
   "source": [
    "# Problema 15"
   ]
  },
  {
   "cell_type": "markdown",
   "metadata": {},
   "source": [
    "Escriba una función que reciba un grupo de cuatro dígitos e imprima la cantidad de veces que aparece dicho número en el segundo grupo de dígitos de todos los números telefónicos. Buscar en los diferentes archivos que tengan números de teléfono."
   ]
  },
  {
   "cell_type": "code",
   "execution_count": null,
   "metadata": {},
   "outputs": [],
   "source": [
    "def f(number):\n",
    "    \n",
    "print(f(\"1234\")) # Respuesta -> 31\n",
    "print(f(\"8976\")) # Respuesta -> 32\n",
    "print(f(\"1289\")) # Respuesta -> 23\n",
    "print(f(\"2345\")) # Respuesta -> 28\n",
    "print(f(\"4876\")) # Respuesta -> 26"
   ]
  },
  {
   "cell_type": "markdown",
   "metadata": {},
   "source": [
    "---"
   ]
  }
 ],
 "metadata": {
  "kernelspec": {
   "display_name": "Python 3 (ipykernel)",
   "language": "python",
   "name": "python3"
  },
  "language_info": {
   "codemirror_mode": {
    "name": "ipython",
    "version": 3
   },
   "file_extension": ".py",
   "mimetype": "text/x-python",
   "name": "python",
   "nbconvert_exporter": "python",
   "pygments_lexer": "ipython3",
   "version": "3.8.10"
  }
 },
 "nbformat": 4,
 "nbformat_minor": 1
}
