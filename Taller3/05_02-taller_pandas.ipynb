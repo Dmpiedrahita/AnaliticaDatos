{
 "cells": [
  {
   "cell_type": "markdown",
   "metadata": {},
   "source": [
    "# Taller Pandas 20%\n",
    "## Hacer 8 de los 15 ejercicios\n",
    "Ingrese su nombre, número de cédula y correo en la siguiente celda como comentario."
   ]
  },
  {
   "cell_type": "code",
   "execution_count": null,
   "metadata": {},
   "outputs": [],
   "source": [
    "# Nombre: Daniel Muñetón Piedrahita\n",
    "# CC: 1214721642\n",
    "# Correo: daniel_muneton92111@elpoli.edu.co"
   ]
  },
  {
   "cell_type": "markdown",
   "metadata": {},
   "source": [
    "# Descripción"
   ]
  },
  {
   "cell_type": "markdown",
   "metadata": {},
   "source": [
    "Esta tarea tiene como fin ayudarlo a profundizar sus conocimientos en programación con el lenguaje Python usando la PSL (Python Standard Library). En la siguiente celda importaré algunas librerias y leeré algunos archivos por usted."
   ]
  },
  {
   "cell_type": "code",
   "execution_count": 6,
   "metadata": {},
   "outputs": [],
   "source": [
    "# Ejecutar esta linea primero para cargar los archivos necesarios\n",
    "# Si aparece un error se debe verificar que la carpeta files este en la misma carpeta que este archivo\n",
    "import pandas as pd\n",
    "customer    = pd.read_table('files/customer',    sep = ',', decimal = '.')\n",
    "employee    = pd.read_table('files/employee',    sep = ',', decimal = '.')\n",
    "family      = pd.read_table('files/family',      sep = ',', decimal = '.')\n",
    "order2000   = pd.read_table('files/order2000',   sep = ',', decimal = '.')\n",
    "order2001   = pd.read_table('files/order2001',   sep = ',', decimal = '.')\n",
    "order2002   = pd.read_table('files/order2002',   sep = ',', decimal = '.')\n",
    "order2003   = pd.read_table('files/order2003',   sep = ',', decimal = '.')\n",
    "order2004   = pd.read_table('files/order2004',   sep = ',', decimal = '.')\n",
    "order2005   = pd.read_table('files/order2005',   sep = ',', decimal = '.')\n",
    "order2006   = pd.read_table('files/order2006',   sep = ',', decimal = '.')\n",
    "order2007   = pd.read_table('files/order2007',   sep = ',', decimal = '.')\n",
    "order2008   = pd.read_table('files/order2008',   sep = ',', decimal = '.')\n",
    "order2009   = pd.read_table('files/order2009',   sep = ',', decimal = '.')\n",
    "order2010   = pd.read_table('files/order2010',   sep = ',', decimal = '.')\n",
    "order2011   = pd.read_table('files/order2011',   sep = ',', decimal = '.')\n",
    "order2012   = pd.read_table('files/order2012',   sep = ',', decimal = '.')\n",
    "order2013   = pd.read_table('files/order2013',   sep = ',', decimal = '.')\n",
    "order2014   = pd.read_table('files/order2014',   sep = ',', decimal = '.')\n",
    "order2015   = pd.read_table('files/order2015',   sep = ',', decimal = '.')\n",
    "order2016   = pd.read_table('files/order2016',   sep = ',', decimal = '.')\n",
    "orderdetail = pd.read_table('files/orderdetail', sep = ',', decimal = '.')\n",
    "product     = pd.read_table('files/product',     sep = ',', decimal = '.')\n",
    "supplier    = pd.read_table('files/supplier',    sep = ',', decimal = '.')"
   ]
  },
  {
   "cell_type": "markdown",
   "metadata": {},
   "source": [
    "# Problema 1"
   ]
  },
  {
   "cell_type": "markdown",
   "metadata": {},
   "source": [
    "Imprima el valor del campo `ssn` (uno por línea) para los registros 2, 6 y 8 del archivo `employee`."
   ]
  },
  {
   "cell_type": "code",
   "execution_count": 8,
   "metadata": {},
   "outputs": [
    {
     "name": "stdout",
     "output_type": "stream",
     "text": [
      "242-36-1147\n",
      "323-99-2171\n",
      "323-99-5441\n"
     ]
    }
   ],
   "source": [
    "# Respuesta\n",
    "# 496-99-2998\n",
    "# 323-35-2171\n",
    "# 496-24-5751\n",
    "\n",
    "filas = employee.iloc[[2, 6, 8]]\n",
    "\n",
    "for valor in filas[\"ssn\"]:\n",
    "    print(valor)"
   ]
  },
  {
   "cell_type": "markdown",
   "metadata": {},
   "source": [
    "\n",
    "# Problema 2"
   ]
  },
  {
   "cell_type": "markdown",
   "metadata": {},
   "source": [
    "Imprima el total de registros (uno por línea) para los archivos `employee`, `product` y `orderdetail` sin contar los encabezados."
   ]
  },
  {
   "cell_type": "code",
   "execution_count": 9,
   "metadata": {},
   "outputs": [
    {
     "name": "stdout",
     "output_type": "stream",
     "text": [
      "50\n",
      "146\n",
      "25946\n"
     ]
    }
   ],
   "source": [
    "# Respuesta\n",
    "# 50\n",
    "# 146\n",
    "# 25946\n",
    "\n",
    "print(employee.shape[0])\n",
    "print(product.shape[0])\n",
    "print(orderdetail.shape[0])"
   ]
  },
  {
   "cell_type": "markdown",
   "metadata": {},
   "source": [
    "# Problema 3"
   ]
  },
  {
   "cell_type": "markdown",
   "metadata": {},
   "source": [
    "Escriba una función `f` que reciba el nombre de un departamento y cuente cuantos registros hay para dicho departamento en el archivo `employee`. "
   ]
  },
  {
   "cell_type": "code",
   "execution_count": 10,
   "metadata": {},
   "outputs": [
    {
     "name": "stdout",
     "output_type": "stream",
     "text": [
      "3\n",
      "21\n"
     ]
    }
   ],
   "source": [
    "def f(department):\n",
    "    return employee[employee[\"department\"] == department].shape[0]\n",
    "    \n",
    "    \n",
    "print(f(\"Advertising\")) # Respuesta 3\n",
    "print(f(\"Sales and Marketing\")) # Respuesta 21"
   ]
  },
  {
   "cell_type": "markdown",
   "metadata": {},
   "source": [
    "# Problema 4"
   ]
  },
  {
   "cell_type": "markdown",
   "metadata": {},
   "source": [
    "\n",
    "Imprima una tabla con la cantidad de empleados nacidos por año, ordenada por año y un año por línea. Use un espacio en blanco para separar el año y la cantidad de personas; por ejemplo, '1969 2'. "
   ]
  },
  {
   "cell_type": "code",
   "execution_count": null,
   "metadata": {},
   "outputs": [
    {
     "name": "stderr",
     "output_type": "stream",
     "text": [
      "C:\\Users\\dmpie\\AppData\\Local\\Temp\\ipykernel_20628\\2281063837.py:24: UserWarning: Could not infer format, so each element will be parsed individually, falling back to `dateutil`. To ensure parsing is consistent and as-expected, please specify a format.\n",
      "  employee[\"birthdate\"] = pd.to_datetime(employee[\"birthdate\"])\n"
     ]
    },
    {
     "ename": "DateParseError",
     "evalue": "Unknown datetime string format, unable to parse: Fri+1970-02-20+00:00:00, at position 0",
     "output_type": "error",
     "traceback": [
      "\u001b[31m---------------------------------------------------------------------------\u001b[39m",
      "\u001b[31mDateParseError\u001b[39m                            Traceback (most recent call last)",
      "\u001b[36mCell\u001b[39m\u001b[36m \u001b[39m\u001b[32mIn[12]\u001b[39m\u001b[32m, line 24\u001b[39m\n\u001b[32m      1\u001b[39m \u001b[38;5;66;03m# Respuesta\u001b[39;00m\n\u001b[32m      2\u001b[39m \u001b[38;5;66;03m# 1969 2\u001b[39;00m\n\u001b[32m      3\u001b[39m \u001b[38;5;66;03m# 1970 2\u001b[39;00m\n\u001b[32m   (...)\u001b[39m\u001b[32m     21\u001b[39m \u001b[38;5;66;03m# 1988 3\u001b[39;00m\n\u001b[32m     22\u001b[39m \u001b[38;5;66;03m# 1990 2\u001b[39;00m\n\u001b[32m---> \u001b[39m\u001b[32m24\u001b[39m employee[\u001b[33m\"\u001b[39m\u001b[33mbirthdate\u001b[39m\u001b[33m\"\u001b[39m] = \u001b[43mpd\u001b[49m\u001b[43m.\u001b[49m\u001b[43mto_datetime\u001b[49m\u001b[43m(\u001b[49m\u001b[43memployee\u001b[49m\u001b[43m[\u001b[49m\u001b[33;43m\"\u001b[39;49m\u001b[33;43mbirthdate\u001b[39;49m\u001b[33;43m\"\u001b[39;49m\u001b[43m]\u001b[49m\u001b[43m)\u001b[49m\n\u001b[32m     25\u001b[39m nacimientos = employee.groupby(employee[\u001b[33m\"\u001b[39m\u001b[33mbirthdate\u001b[39m\u001b[33m\"\u001b[39m].dt.year).size()\n\u001b[32m     26\u001b[39m \u001b[38;5;28;01mfor\u001b[39;00m year, count \u001b[38;5;129;01min\u001b[39;00m nacimientos.sort_index().items():\n",
      "\u001b[36mFile \u001b[39m\u001b[32mc:\\Users\\dmpie\\AppData\\Local\\Programs\\Python\\Python313\\Lib\\site-packages\\pandas\\core\\tools\\datetimes.py:1072\u001b[39m, in \u001b[36mto_datetime\u001b[39m\u001b[34m(arg, errors, dayfirst, yearfirst, utc, format, exact, unit, infer_datetime_format, origin, cache)\u001b[39m\n\u001b[32m   1070\u001b[39m         result = arg.map(cache_array)\n\u001b[32m   1071\u001b[39m     \u001b[38;5;28;01melse\u001b[39;00m:\n\u001b[32m-> \u001b[39m\u001b[32m1072\u001b[39m         values = \u001b[43mconvert_listlike\u001b[49m\u001b[43m(\u001b[49m\u001b[43marg\u001b[49m\u001b[43m.\u001b[49m\u001b[43m_values\u001b[49m\u001b[43m,\u001b[49m\u001b[43m \u001b[49m\u001b[38;5;28;43mformat\u001b[39;49m\u001b[43m)\u001b[49m\n\u001b[32m   1073\u001b[39m         result = arg._constructor(values, index=arg.index, name=arg.name)\n\u001b[32m   1074\u001b[39m \u001b[38;5;28;01melif\u001b[39;00m \u001b[38;5;28misinstance\u001b[39m(arg, (ABCDataFrame, abc.MutableMapping)):\n",
      "\u001b[36mFile \u001b[39m\u001b[32mc:\\Users\\dmpie\\AppData\\Local\\Programs\\Python\\Python313\\Lib\\site-packages\\pandas\\core\\tools\\datetimes.py:437\u001b[39m, in \u001b[36m_convert_listlike_datetimes\u001b[39m\u001b[34m(arg, format, name, utc, unit, errors, dayfirst, yearfirst, exact)\u001b[39m\n\u001b[32m    434\u001b[39m \u001b[38;5;28;01mif\u001b[39;00m \u001b[38;5;28mformat\u001b[39m \u001b[38;5;129;01mis\u001b[39;00m \u001b[38;5;129;01mnot\u001b[39;00m \u001b[38;5;28;01mNone\u001b[39;00m \u001b[38;5;129;01mand\u001b[39;00m \u001b[38;5;28mformat\u001b[39m != \u001b[33m\"\u001b[39m\u001b[33mmixed\u001b[39m\u001b[33m\"\u001b[39m:\n\u001b[32m    435\u001b[39m     \u001b[38;5;28;01mreturn\u001b[39;00m _array_strptime_with_fallback(arg, name, utc, \u001b[38;5;28mformat\u001b[39m, exact, errors)\n\u001b[32m--> \u001b[39m\u001b[32m437\u001b[39m result, tz_parsed = \u001b[43mobjects_to_datetime64\u001b[49m\u001b[43m(\u001b[49m\n\u001b[32m    438\u001b[39m \u001b[43m    \u001b[49m\u001b[43marg\u001b[49m\u001b[43m,\u001b[49m\n\u001b[32m    439\u001b[39m \u001b[43m    \u001b[49m\u001b[43mdayfirst\u001b[49m\u001b[43m=\u001b[49m\u001b[43mdayfirst\u001b[49m\u001b[43m,\u001b[49m\n\u001b[32m    440\u001b[39m \u001b[43m    \u001b[49m\u001b[43myearfirst\u001b[49m\u001b[43m=\u001b[49m\u001b[43myearfirst\u001b[49m\u001b[43m,\u001b[49m\n\u001b[32m    441\u001b[39m \u001b[43m    \u001b[49m\u001b[43mutc\u001b[49m\u001b[43m=\u001b[49m\u001b[43mutc\u001b[49m\u001b[43m,\u001b[49m\n\u001b[32m    442\u001b[39m \u001b[43m    \u001b[49m\u001b[43merrors\u001b[49m\u001b[43m=\u001b[49m\u001b[43merrors\u001b[49m\u001b[43m,\u001b[49m\n\u001b[32m    443\u001b[39m \u001b[43m    \u001b[49m\u001b[43mallow_object\u001b[49m\u001b[43m=\u001b[49m\u001b[38;5;28;43;01mTrue\u001b[39;49;00m\u001b[43m,\u001b[49m\n\u001b[32m    444\u001b[39m \u001b[43m\u001b[49m\u001b[43m)\u001b[49m\n\u001b[32m    446\u001b[39m \u001b[38;5;28;01mif\u001b[39;00m tz_parsed \u001b[38;5;129;01mis\u001b[39;00m \u001b[38;5;129;01mnot\u001b[39;00m \u001b[38;5;28;01mNone\u001b[39;00m:\n\u001b[32m    447\u001b[39m     \u001b[38;5;66;03m# We can take a shortcut since the datetime64 numpy array\u001b[39;00m\n\u001b[32m    448\u001b[39m     \u001b[38;5;66;03m# is in UTC\u001b[39;00m\n\u001b[32m    449\u001b[39m     out_unit = np.datetime_data(result.dtype)[\u001b[32m0\u001b[39m]\n",
      "\u001b[36mFile \u001b[39m\u001b[32mc:\\Users\\dmpie\\AppData\\Local\\Programs\\Python\\Python313\\Lib\\site-packages\\pandas\\core\\arrays\\datetimes.py:2415\u001b[39m, in \u001b[36mobjects_to_datetime64\u001b[39m\u001b[34m(data, dayfirst, yearfirst, utc, errors, allow_object, out_unit)\u001b[39m\n\u001b[32m   2412\u001b[39m \u001b[38;5;66;03m# if str-dtype, convert\u001b[39;00m\n\u001b[32m   2413\u001b[39m data = np.asarray(data, dtype=np.object_)\n\u001b[32m-> \u001b[39m\u001b[32m2415\u001b[39m result, tz_parsed = \u001b[43mtslib\u001b[49m\u001b[43m.\u001b[49m\u001b[43marray_to_datetime\u001b[49m\u001b[43m(\u001b[49m\n\u001b[32m   2416\u001b[39m \u001b[43m    \u001b[49m\u001b[43mdata\u001b[49m\u001b[43m,\u001b[49m\n\u001b[32m   2417\u001b[39m \u001b[43m    \u001b[49m\u001b[43merrors\u001b[49m\u001b[43m=\u001b[49m\u001b[43merrors\u001b[49m\u001b[43m,\u001b[49m\n\u001b[32m   2418\u001b[39m \u001b[43m    \u001b[49m\u001b[43mutc\u001b[49m\u001b[43m=\u001b[49m\u001b[43mutc\u001b[49m\u001b[43m,\u001b[49m\n\u001b[32m   2419\u001b[39m \u001b[43m    \u001b[49m\u001b[43mdayfirst\u001b[49m\u001b[43m=\u001b[49m\u001b[43mdayfirst\u001b[49m\u001b[43m,\u001b[49m\n\u001b[32m   2420\u001b[39m \u001b[43m    \u001b[49m\u001b[43myearfirst\u001b[49m\u001b[43m=\u001b[49m\u001b[43myearfirst\u001b[49m\u001b[43m,\u001b[49m\n\u001b[32m   2421\u001b[39m \u001b[43m    \u001b[49m\u001b[43mcreso\u001b[49m\u001b[43m=\u001b[49m\u001b[43mabbrev_to_npy_unit\u001b[49m\u001b[43m(\u001b[49m\u001b[43mout_unit\u001b[49m\u001b[43m)\u001b[49m\u001b[43m,\u001b[49m\n\u001b[32m   2422\u001b[39m \u001b[43m\u001b[49m\u001b[43m)\u001b[49m\n\u001b[32m   2424\u001b[39m \u001b[38;5;28;01mif\u001b[39;00m tz_parsed \u001b[38;5;129;01mis\u001b[39;00m \u001b[38;5;129;01mnot\u001b[39;00m \u001b[38;5;28;01mNone\u001b[39;00m:\n\u001b[32m   2425\u001b[39m     \u001b[38;5;66;03m# We can take a shortcut since the datetime64 numpy array\u001b[39;00m\n\u001b[32m   2426\u001b[39m     \u001b[38;5;66;03m#  is in UTC\u001b[39;00m\n\u001b[32m   2427\u001b[39m     \u001b[38;5;28;01mreturn\u001b[39;00m result, tz_parsed\n",
      "\u001b[36mFile \u001b[39m\u001b[32mpandas/_libs/tslib.pyx:412\u001b[39m, in \u001b[36mpandas._libs.tslib.array_to_datetime\u001b[39m\u001b[34m()\u001b[39m\n",
      "\u001b[36mFile \u001b[39m\u001b[32mpandas/_libs/tslib.pyx:596\u001b[39m, in \u001b[36mpandas._libs.tslib.array_to_datetime\u001b[39m\u001b[34m()\u001b[39m\n",
      "\u001b[36mFile \u001b[39m\u001b[32mpandas/_libs/tslib.pyx:553\u001b[39m, in \u001b[36mpandas._libs.tslib.array_to_datetime\u001b[39m\u001b[34m()\u001b[39m\n",
      "\u001b[36mFile \u001b[39m\u001b[32mpandas/_libs/tslibs/conversion.pyx:641\u001b[39m, in \u001b[36mpandas._libs.tslibs.conversion.convert_str_to_tsobject\u001b[39m\u001b[34m()\u001b[39m\n",
      "\u001b[36mFile \u001b[39m\u001b[32mpandas/_libs/tslibs/parsing.pyx:336\u001b[39m, in \u001b[36mpandas._libs.tslibs.parsing.parse_datetime_string\u001b[39m\u001b[34m()\u001b[39m\n",
      "\u001b[36mFile \u001b[39m\u001b[32mpandas/_libs/tslibs/parsing.pyx:666\u001b[39m, in \u001b[36mpandas._libs.tslibs.parsing.dateutil_parse\u001b[39m\u001b[34m()\u001b[39m\n",
      "\u001b[31mDateParseError\u001b[39m: Unknown datetime string format, unable to parse: Fri+1970-02-20+00:00:00, at position 0"
     ]
    }
   ],
   "source": [
    "# Respuesta\n",
    "# 1969 2\n",
    "# 1970 2\n",
    "# 1971 5\n",
    "# 1972 1\n",
    "# 1973 1\n",
    "# 1974 1\n",
    "# 1975 2\n",
    "# 1976 4\n",
    "# 1977 3\n",
    "# 1978 1\n",
    "# 1979 5\n",
    "# 1980 4\n",
    "# 1981 2\n",
    "# 1982 2\n",
    "# 1983 1\n",
    "# 1984 2\n",
    "# 1985 3\n",
    "# 1986 3\n",
    "# 1987 1\n",
    "# 1988 3\n",
    "# 1990 2\n"
   ]
  },
  {
   "cell_type": "markdown",
   "metadata": {},
   "source": [
    "# Problema 5"
   ]
  },
  {
   "cell_type": "markdown",
   "metadata": {},
   "source": [
    "Imprima una lista con las ciudades del archivo `employee` ordenadas alfabéticamente y sin repetir ciudad. Imprima una ciudad por renglón. "
   ]
  },
  {
   "cell_type": "code",
   "execution_count": 13,
   "metadata": {},
   "outputs": [
    {
     "name": "stdout",
     "output_type": "stream",
     "text": [
      "BELLEFONTE\n",
      "BLAINE\n",
      "BURNS FLAT\n",
      "CEDAR HILL\n",
      "CHANCELLOR\n",
      "CHARLOTTESVILLE\n",
      "CHESHIRE\n",
      "COPELAND\n",
      "FT MITCHELL\n",
      "GARRISON\n",
      "GRANDVIEW\n",
      "MANISTIQUE\n",
      "MONTCLAIR\n",
      "PAWCATUCK\n",
      "RIDGEFIELD\n",
      "RUIDOSO\n",
      "SANTA BARBARA\n",
      "SARASOTA\n",
      "TALLASSEE\n",
      "TAWAS CITY\n",
      "TEHACHAPI\n",
      "TERRA\n",
      "WINTER HAVEN\n"
     ]
    }
   ],
   "source": [
    "# Respuesta\n",
    "# BELLEFONTE\n",
    "# BLAINE\n",
    "# BURNS FLAT\n",
    "# CEDAR HILL\n",
    "# CHANCELLOR\n",
    "# CHARLOTTESVILLE\n",
    "# CHESHIRE\n",
    "# COPELAND\n",
    "# FT MITCHELL\n",
    "# GARRISON\n",
    "# GRANDVIEW\n",
    "# MANISTIQUE\n",
    "# MONTCLAIR\n",
    "# PAWCATUCK\n",
    "# RIDGEFIELD\n",
    "# RUIDOSO\n",
    "# SANTA BARBARA\n",
    "# SARASOTA\n",
    "# TALLASSEE\n",
    "# TAWAS CITY\n",
    "# TEHACHAPI\n",
    "# TERRA\n",
    "# WINTER HAVEN\n",
    "\n",
    "cities = sorted(employee[\"city\"].unique())\n",
    "for city in cities:\n",
    "    print(city)"
   ]
  },
  {
   "cell_type": "markdown",
   "metadata": {},
   "source": [
    "# Problema 6"
   ]
  },
  {
   "cell_type": "markdown",
   "metadata": {},
   "source": [
    "Imprima una lista con las ciudades del archivo `employee` ordenadas alfabéticamente indicando cuántas veces aparece cada ciudad en el archivo. Imprima una ciudad por renglón. Separe la ciudad y la cantidad por un espacio en blanco; por ejemplo: 'BELLEFONTE 3'."
   ]
  },
  {
   "cell_type": "code",
   "execution_count": 14,
   "metadata": {},
   "outputs": [
    {
     "name": "stdout",
     "output_type": "stream",
     "text": [
      "BELLEFONTE 3\n",
      "BLAINE 1\n",
      "BURNS FLAT 2\n",
      "CEDAR HILL 2\n",
      "CHANCELLOR 2\n",
      "CHARLOTTESVILLE 1\n",
      "CHESHIRE 1\n",
      "COPELAND 5\n",
      "FT MITCHELL 1\n",
      "GARRISON 2\n",
      "GRANDVIEW 2\n",
      "MANISTIQUE 2\n",
      "MONTCLAIR 3\n",
      "PAWCATUCK 4\n",
      "RIDGEFIELD 1\n",
      "RUIDOSO 1\n",
      "SANTA BARBARA 2\n",
      "SARASOTA 5\n",
      "TALLASSEE 1\n",
      "TAWAS CITY 2\n",
      "TEHACHAPI 1\n",
      "TERRA 3\n",
      "WINTER HAVEN 3\n"
     ]
    }
   ],
   "source": [
    "# Respuesta\n",
    "# BELLEFONTE 3\n",
    "# BLAINE 1\n",
    "# BURNS FLAT 2\n",
    "# CEDAR HILL 2\n",
    "# CHANCELLOR 2\n",
    "# CHARLOTTESVILLE 1\n",
    "# CHESHIRE 1\n",
    "# COPELAND 5\n",
    "# FT MITCHELL 1\n",
    "# GARRISON 2\n",
    "# GRANDVIEW 2\n",
    "# MANISTIQUE 2\n",
    "# MONTCLAIR 3\n",
    "# PAWCATUCK 4\n",
    "# RIDGEFIELD 1\n",
    "# RUIDOSO 1\n",
    "# SANTA BARBARA 2\n",
    "# SARASOTA 5\n",
    "# TALLASSEE 1\n",
    "# TAWAS CITY 2\n",
    "# TEHACHAPI 1\n",
    "# TERRA 3\n",
    "# WINTER HAVEN 3\n",
    "\n",
    "city_counts = employee[\"city\"].value_counts().sort_index()\n",
    "for city, count in city_counts.items():\n",
    "    print(f\"{city} {count}\")"
   ]
  },
  {
   "cell_type": "markdown",
   "metadata": {},
   "source": [
    "# Problema 7"
   ]
  },
  {
   "cell_type": "markdown",
   "metadata": {},
   "source": [
    "Imprima, por cada ciudad diferente del archivo `employee`, cuántos registros quedan si se eliminan todos los registros que contienen dicha ciudad. Imprima la lista ordenada alfabéticamente. Separe la ciudad y la cantidad usando un espacio en blanco; por ejemplo: `'BELLEFONTE 47'`."
   ]
  },
  {
   "cell_type": "code",
   "execution_count": 17,
   "metadata": {},
   "outputs": [
    {
     "name": "stdout",
     "output_type": "stream",
     "text": [
      "BELLEFONTE 47\n",
      "BLAINE 49\n",
      "BURNS FLAT 48\n",
      "CEDAR HILL 48\n",
      "CHANCELLOR 48\n",
      "CHARLOTTESVILLE 49\n",
      "CHESHIRE 49\n",
      "COPELAND 45\n",
      "FT MITCHELL 49\n",
      "GARRISON 48\n",
      "GRANDVIEW 48\n",
      "MANISTIQUE 48\n",
      "MONTCLAIR 47\n",
      "PAWCATUCK 46\n",
      "RIDGEFIELD 49\n",
      "RUIDOSO 49\n",
      "SANTA BARBARA 48\n",
      "SARASOTA 45\n",
      "TALLASSEE 49\n",
      "TAWAS CITY 48\n",
      "TEHACHAPI 49\n",
      "TERRA 47\n",
      "WINTER HAVEN 47\n"
     ]
    }
   ],
   "source": [
    "# Respuesta\n",
    "# BELLEFONTE 47\n",
    "# BLAINE 49\n",
    "# BURNS FLAT 48\n",
    "# CEDAR HILL 48\n",
    "# CHANCELLOR 48\n",
    "# CHARLOTTESVILLE 49\n",
    "# CHESHIRE 49\n",
    "# COPELAND 45\n",
    "# FT MITCHELL 49\n",
    "# GARRISON 48\n",
    "# GRANDVIEW 48\n",
    "# MANISTIQUE 48\n",
    "# MONTCLAIR 47\n",
    "# PAWCATUCK 46\n",
    "# RIDGEFIELD 49\n",
    "# RUIDOSO 49\n",
    "# SANTA BARBARA 48\n",
    "# SARASOTA 45\n",
    "# TALLASSEE 49\n",
    "# TAWAS CITY 48\n",
    "# TEHACHAPI 49\n",
    "# TERRA 47\n",
    "# WINTER HAVEN 47\n",
    "\n",
    "cityCounts = employee[\"city\"].value_counts().sort_index()\n",
    "total = len(employee)\n",
    "for city, count in cityCounts.items():\n",
    "    remaining = total - count\n",
    "    print(f\"{city} {remaining}\")"
   ]
  },
  {
   "cell_type": "markdown",
   "metadata": {},
   "source": [
    "# Problema 8"
   ]
  },
  {
   "cell_type": "markdown",
   "metadata": {},
   "source": [
    "Escriba una función que reciba el nombre completo de un hijo (campo `fullname` del archivo `family`), y devuelva el primer nombre (`fullname`) del padre en el archivo `employee`. "
   ]
  },
  {
   "cell_type": "code",
   "execution_count": 23,
   "metadata": {},
   "outputs": [
    {
     "name": "stdout",
     "output_type": "stream",
     "text": [
      "Cary Hartnett\n",
      "Jermaine Bailey\n"
     ]
    }
   ],
   "source": [
    "def f(child_full_name):\n",
    "    son = family[family[\"fullname\"] == child_full_name]\n",
    "    \n",
    "    parentId = son.iloc[0][\"parent.id\"]\n",
    "    parent = employee[employee[\"employee.id\"] == parentId]\n",
    "\n",
    "    return parent.iloc[0][\"fullname\"]\n",
    "    \n",
    "print(f(\"Cecelia Hartnett\")) # Respuesta -> Cary Hartnett\n",
    "print(f(\"Verlie Bailey\")) # Respuesta -> Jermaine Bailey"
   ]
  },
  {
   "cell_type": "markdown",
   "metadata": {},
   "source": [
    "# Problema 9"
   ]
  },
  {
   "cell_type": "markdown",
   "metadata": {},
   "source": [
    "Escriba una función que reciba el número de orden (`order.id`) y devuelva el nombre completo (`fullname`) del empleado que la atendio. La busqueda se debe realizar en todos los archivos de ordenes de los diferentes años."
   ]
  },
  {
   "cell_type": "code",
   "execution_count": 27,
   "metadata": {},
   "outputs": [
    {
     "name": "stdout",
     "output_type": "stream",
     "text": [
      "Christy Petry\n",
      "Damaris Parry\n",
      "Bailey Beasley\n",
      "Man Sapp\n",
      "Jodi Wetzel\n",
      "Carolynn Devine\n"
     ]
    }
   ],
   "source": [
    "allOrders = pd.concat(\n",
    "    [order2000, order2001, order2002, order2003,\n",
    "     order2004, order2005, order2006, order2007,\n",
    "     order2008, order2009, order2010, order2011,\n",
    "     order2012, order2013, order2014, order2015, order2016],\n",
    "    ignore_index=True\n",
    ")\n",
    "\n",
    "def searchEmployeeByOrderId(orderId):\n",
    "\n",
    "    order = allOrders[allOrders[\"order.id\"] == orderId]\n",
    "\n",
    "    employeeId = order.iloc[0][\"employee.id\"]\n",
    "\n",
    "    empl = employee[employee[\"employee.id\"] == employeeId]\n",
    "\n",
    "    return empl.iloc[0][\"fullname\"]\n",
    "    \n",
    "print(searchEmployeeByOrderId((309))) # Respuesta -> Christy Petry\n",
    "print(searchEmployeeByOrderId((653))) # Respuesta -> Damaris Parry\n",
    "print(searchEmployeeByOrderId((996))) # Respuesta -> Bailey Beasley\n",
    "print(searchEmployeeByOrderId((1))) # Respuesta -> Man Sapp\n",
    "print(searchEmployeeByOrderId((24))) # Respuesta -> Jodi Wetzel\n",
    "print(searchEmployeeByOrderId((500))) # Respuesta -> Carolynn Devine"
   ]
  },
  {
   "cell_type": "markdown",
   "metadata": {},
   "source": [
    "# Problema 10"
   ]
  },
  {
   "cell_type": "markdown",
   "metadata": {},
   "source": [
    "Escriba una función que reciba el número de orden (`order.id`) y devuelva el nombre completo (`fullname`) del cliente que la solicitó. La busqueda se debe realizar en todos los archivos de ordenes de los diferentes años."
   ]
  },
  {
   "cell_type": "code",
   "execution_count": 30,
   "metadata": {},
   "outputs": [
    {
     "name": "stdout",
     "output_type": "stream",
     "text": [
      "Carmen Zimmerman\n",
      "Theodore Pernell\n",
      "Marilynn Laws\n",
      "Bobbie Goodman\n",
      "Latoya Albrecht\n",
      "Bill Ford\n"
     ]
    }
   ],
   "source": [
    "allOrders = pd.concat(\n",
    "    [order2000, order2001, order2002, order2003,\n",
    "     order2004, order2005, order2006, order2007,\n",
    "     order2008, order2009, order2010, order2011,\n",
    "     order2012, order2013, order2014, order2015, order2016],\n",
    "    ignore_index=True\n",
    ")\n",
    "\n",
    "\n",
    "def searchCustomerByOrderId(orderId):\n",
    "\n",
    "    order = allOrders[allOrders[\"order.id\"] == orderId]\n",
    "    \n",
    "    customerId = order.iloc[0][\"customer.id\"]\n",
    "    cust = customer[customer[\"customer.id\"] == customerId]\n",
    "\n",
    "    return cust.iloc[0][\"fullname\"]\n",
    "\n",
    "print(searchCustomerByOrderId(309))  # Carmen Zimmerman\n",
    "print(searchCustomerByOrderId(653))  # Theodore Pernell\n",
    "print(searchCustomerByOrderId(996))  # Marilynn Laws\n",
    "print(searchCustomerByOrderId(1))    # Bobbie Goodman\n",
    "print(searchCustomerByOrderId(24))   # Latoya Albrecht\n",
    "print(searchCustomerByOrderId(500))  # Bill Ford"
   ]
  },
  {
   "cell_type": "markdown",
   "metadata": {},
   "source": [
    "# Problema 11"
   ]
  },
  {
   "cell_type": "markdown",
   "metadata": {},
   "source": [
    "Escriba una función que reciba el nombre de un empleado (`fullname`) y retorne la cantidad de órdenes atendidas por él. La busqueda se debe realizar en todos los archivos de ordenes de los diferentes años."
   ]
  },
  {
   "cell_type": "code",
   "execution_count": null,
   "metadata": {},
   "outputs": [],
   "source": [
    "def f(full_name):\n",
    "    \n",
    "print(f('Christy Petry')) # Respuesta -> 238\n",
    "print(f('Gisela Strong')) # Respuesta -> 225\n",
    "print(f('Ellis Ervin')) # Respuesta -> 270\n",
    "print(f(\"Man Sapp\")) # Respuesta -> 244\n",
    "print(f(\"Jodi Wetzel\")) # Respuesta -> 208\n",
    "print(f(\"Carolynn Devine\")) # Respuesta -> 289"
   ]
  },
  {
   "cell_type": "markdown",
   "metadata": {},
   "source": [
    "# Problema 12"
   ]
  },
  {
   "cell_type": "markdown",
   "metadata": {},
   "source": [
    "Escriba una función que reciba el nombre de un empleado y retorne el valor mínino del campo `order.id` del total de ordenes que atendió. La busqueda se debe realizar en todos los archivos de ordenes de los diferentes años."
   ]
  },
  {
   "cell_type": "code",
   "execution_count": null,
   "metadata": {},
   "outputs": [],
   "source": [
    "def f(full_name):\n",
    "    \n",
    "print(f('Christy Petry')) # Respuesta -> 14\n",
    "print(f('Gisela Strong')) # Respuesta -> 27\n",
    "print(f('Ellis Ervin')) # Respuesta -> 20\n",
    "print(f(\"Man Sapp\")) # Respuesta -> 1\n",
    "print(f(\"Jodi Wetzel\")) # Respuesta -> 24\n",
    "print(f(\"Carolynn Devine\")) # Respuesta -> 15"
   ]
  },
  {
   "cell_type": "markdown",
   "metadata": {},
   "source": [
    "# Problema 13"
   ]
  },
  {
   "cell_type": "markdown",
   "metadata": {},
   "source": [
    "Escriba una función que reciba el `order.id` de una orden y retorne el cálculo del valor total de la orden. Buscar en el archivo `orderdetail` y realizar la operación entre `quantity` y `price`."
   ]
  },
  {
   "cell_type": "code",
   "execution_count": null,
   "metadata": {},
   "outputs": [],
   "source": [
    "def f(orderid):\n",
    "    \n",
    "print(f(8)) # Respuesta -> 5450\n",
    "print(f(24)) # Respuesta -> 3750\n",
    "print(f(500)) # Respuesta -> 7943\n",
    "print(f(1)) # Respuesta -> 2572\n",
    "print(f(2)) # Respuesta -> 2979\n",
    "print(f(3)) # Respuesta -> 9317"
   ]
  },
  {
   "cell_type": "markdown",
   "metadata": {},
   "source": [
    "# Problema 14"
   ]
  },
  {
   "cell_type": "markdown",
   "metadata": {},
   "source": [
    "Imprima la cantidad de empleados que nacieron en cada uno de los trimestres (`Q1`, `Q2`, `Q3`, `Q4`) del año. Imprima un trimestre por reglón, separando las cantidades por un espacio en blanco. Por ejemplo: `'Q1 18'`. "
   ]
  },
  {
   "cell_type": "code",
   "execution_count": null,
   "metadata": {},
   "outputs": [],
   "source": [
    "# Respuesta\n",
    "# Q1 16\n",
    "# Q2 9\n",
    "# Q3 14\n",
    "# Q4 11"
   ]
  },
  {
   "cell_type": "markdown",
   "metadata": {},
   "source": [
    "# Problema 15"
   ]
  },
  {
   "cell_type": "markdown",
   "metadata": {},
   "source": [
    "Escriba una función que reciba un grupo de cuatro dígitos e imprima la cantidad de veces que aparece dicho número en el segundo grupo de dígitos de todos los números telefónicos. Buscar en los diferentes archivos que tengan números de teléfono."
   ]
  },
  {
   "cell_type": "code",
   "execution_count": null,
   "metadata": {},
   "outputs": [],
   "source": [
    "def f(number):\n",
    "    \n",
    "print(f(\"1234\")) # Respuesta -> 31\n",
    "print(f(\"8976\")) # Respuesta -> 32\n",
    "print(f(\"1289\")) # Respuesta -> 23\n",
    "print(f(\"2345\")) # Respuesta -> 28\n",
    "print(f(\"4876\")) # Respuesta -> 26"
   ]
  },
  {
   "cell_type": "markdown",
   "metadata": {},
   "source": [
    "---"
   ]
  }
 ],
 "metadata": {
  "kernelspec": {
   "display_name": "Python 3",
   "language": "python",
   "name": "python3"
  },
  "language_info": {
   "codemirror_mode": {
    "name": "ipython",
    "version": 3
   },
   "file_extension": ".py",
   "mimetype": "text/x-python",
   "name": "python",
   "nbconvert_exporter": "python",
   "pygments_lexer": "ipython3",
   "version": "3.13.7"
  }
 },
 "nbformat": 4,
 "nbformat_minor": 1
}
