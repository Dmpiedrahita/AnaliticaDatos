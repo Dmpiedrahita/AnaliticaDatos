{
 "cells": [
  {
   "cell_type": "markdown",
   "metadata": {},
   "source": [
    "**Recuerde no agregar o quitar celdas en este notebook, ni modificar su tipo. Si lo hace, el sistema automaticamente lo calificará con cero punto cero (0.0)**"
   ]
  },
  {
   "cell_type": "markdown",
   "metadata": {},
   "source": [
    "# Descripción"
   ]
  },
  {
   "cell_type": "markdown",
   "metadata": {},
   "source": [
    "Esta tarea tiene como fin ayudarlo a profundizar sus conocimientos en programación con el lenguaje Python usando Pandas. En la siguiente celda importaré algunas librerias y leeré algunos archivos por usted."
   ]
  },
  {
   "cell_type": "code",
   "execution_count": 1,
   "metadata": {
    "collapsed": true
   },
   "outputs": [],
   "source": [
    "###__test__\n",
    "import pandas\n",
    "customer    = pandas.read_table('customer',    sep = ',', decimal = '.')\n",
    "employee    = pandas.read_table('employee',    sep = ',', decimal = '.')\n",
    "family      = pandas.read_table('family',      sep = ',', decimal = '.')\n",
    "order2000   = pandas.read_table('order2000',   sep = ',', decimal = '.')\n",
    "order2001   = pandas.read_table('order2001',   sep = ',', decimal = '.')\n",
    "order2002   = pandas.read_table('order2002',   sep = ',', decimal = '.')\n",
    "order2003   = pandas.read_table('order2003',   sep = ',', decimal = '.')\n",
    "order2004   = pandas.read_table('order2004',   sep = ',', decimal = '.')\n",
    "order2005   = pandas.read_table('order2005',   sep = ',', decimal = '.')\n",
    "order2006   = pandas.read_table('order2006',   sep = ',', decimal = '.')\n",
    "order2007   = pandas.read_table('order2007',   sep = ',', decimal = '.')\n",
    "order2008   = pandas.read_table('order2008',   sep = ',', decimal = '.')\n",
    "order2009   = pandas.read_table('order2009',   sep = ',', decimal = '.')\n",
    "order2010   = pandas.read_table('order2010',   sep = ',', decimal = '.')\n",
    "order2011   = pandas.read_table('order2011',   sep = ',', decimal = '.')\n",
    "order2012   = pandas.read_table('order2012',   sep = ',', decimal = '.')\n",
    "order2013   = pandas.read_table('order2013',   sep = ',', decimal = '.')\n",
    "order2014   = pandas.read_table('order2014',   sep = ',', decimal = '.')\n",
    "order2015   = pandas.read_table('order2015',   sep = ',', decimal = '.')\n",
    "order2016   = pandas.read_table('order2016',   sep = ',', decimal = '.')\n",
    "orderdetail = pandas.read_table('orderdetail', sep = ',', decimal = '.')\n",
    "product     = pandas.read_table('product',     sep = ',', decimal = '.')\n",
    "supplier    = pandas.read_table('supplier',    sep = ',', decimal = '.')"
   ]
  },
  {
   "cell_type": "markdown",
   "metadata": {},
   "source": [
    "# Problema 1"
   ]
  },
  {
   "cell_type": "markdown",
   "metadata": {},
   "source": [
    "Imprima el valor del campo `ssn` (uno por línea) para los registros 2, 6 y 8 del archivo `employee`."
   ]
  },
  {
   "cell_type": "code",
   "execution_count": 2,
   "metadata": {},
   "outputs": [
    {
     "name": "stdout",
     "output_type": "stream",
     "text": [
      "496-99-2998\n",
      "323-35-2171\n",
      "496-24-5751\n"
     ]
    }
   ],
   "source": [
    "print(employee.iloc[[1,5,7],[4]].to_string(index=False,header=False))"
   ]
  },
  {
   "cell_type": "markdown",
   "metadata": {},
   "source": [
    "# Problema 2"
   ]
  },
  {
   "cell_type": "markdown",
   "metadata": {},
   "source": [
    "Imprima el total de registros (uno por línea) para los archivos `employee`, `product` y `orderdetail`."
   ]
  },
  {
   "cell_type": "code",
   "execution_count": 3,
   "metadata": {},
   "outputs": [
    {
     "name": "stdout",
     "output_type": "stream",
     "text": [
      "50\n",
      "146\n",
      "25946\n"
     ]
    }
   ],
   "source": [
    "for i in [employee,product,orderdetail]:\n",
    "    print(len(i))"
   ]
  },
  {
   "cell_type": "markdown",
   "metadata": {},
   "source": [
    "# Problema 3"
   ]
  },
  {
   "cell_type": "markdown",
   "metadata": {},
   "source": [
    "Escriba una función `f` que reciba el nombre de un departamento y cuente cuantos registros hay para dicho departamento en el archivo `employee`. "
   ]
  },
  {
   "cell_type": "code",
   "execution_count": 4,
   "metadata": {
    "collapsed": true
   },
   "outputs": [],
   "source": [
    "def f(departamento):\n",
    "    filtro = len((employee[employee['department']==departamento]))\n",
    "    return(filtro)\n",
    "    pass"
   ]
  },
  {
   "cell_type": "code",
   "execution_count": 5,
   "metadata": {},
   "outputs": [
    {
     "name": "stdout",
     "output_type": "stream",
     "text": [
      "4\n",
      "3\n",
      "3\n",
      "1\n",
      "21\n"
     ]
    }
   ],
   "source": [
    "###__test__\n",
    "print(f(\"Accounting\"))\n",
    "print(f(\"Advertising\"))\n",
    "print(f(\"Asset Management\"))\n",
    "print(f(\"Media Relations\"))\n",
    "print(f(\"Sales and Marketing\"))"
   ]
  },
  {
   "cell_type": "markdown",
   "metadata": {},
   "source": [
    "# Problema 4"
   ]
  },
  {
   "cell_type": "markdown",
   "metadata": {},
   "source": [
    "Imprima una tabla con la cantidad de empleados nacidos por año, ordenada por año y un año por línea. Use un espacio en blanco para separar el año y la cantidad de personas; por ejemplo, '1969 2'. "
   ]
  },
  {
   "cell_type": "code",
   "execution_count": 6,
   "metadata": {},
   "outputs": [
    {
     "name": "stdout",
     "output_type": "stream",
     "text": [
      "1969 2\n",
      "1970 2\n",
      "1971 5\n",
      "1972 1\n",
      "1973 1\n",
      "1974 1\n",
      "1975 2\n",
      "1976 4\n",
      "1977 3\n",
      "1978 1\n",
      "1979 5\n",
      "1980 4\n",
      "1981 2\n",
      "1982 2\n",
      "1983 1\n",
      "1984 2\n",
      "1985 3\n",
      "1986 3\n",
      "1987 1\n",
      "1988 3\n",
      "1990 2\n"
     ]
    }
   ],
   "source": [
    "h = [i.split(\"-\")[0].split(\"+\")[1] for i in list(employee['birthdate'])]\n",
    "employee['year'] = h\n",
    "values=list(employee.groupby('year').count()[\"employee.id\"])\n",
    "years=list(employee.groupby('year').count().index)\n",
    "x = [str(years[i]) + \" \" + str(values[i]) for i in range (len(list(employee.groupby('year').count().index)))]\n",
    "for i in x:\n",
    "    print(i)\n",
    "del employee['year']"
   ]
  },
  {
   "cell_type": "markdown",
   "metadata": {},
   "source": [
    "# Problema 5"
   ]
  },
  {
   "cell_type": "markdown",
   "metadata": {},
   "source": [
    "Imprima una lista con las ciudades del archivo `employee` ordenadas alfabéticamente y sin repetir ciudad. Imprima una ciudad por renglón. "
   ]
  },
  {
   "cell_type": "code",
   "execution_count": 7,
   "metadata": {},
   "outputs": [
    {
     "name": "stdout",
     "output_type": "stream",
     "text": [
      "BELLEFONTE\n",
      "BLAINE\n",
      "BURNS FLAT\n",
      "CEDAR HILL\n",
      "CHANCELLOR\n",
      "CHARLOTTESVILLE\n",
      "CHESHIRE\n",
      "COPELAND\n",
      "FT MITCHELL\n",
      "GARRISON\n",
      "GRANDVIEW\n",
      "MANISTIQUE\n",
      "MONTCLAIR\n",
      "PAWCATUCK\n",
      "RIDGEFIELD\n",
      "RUIDOSO\n",
      "SANTA BARBARA\n",
      "SARASOTA\n",
      "TALLASSEE\n",
      "TAWAS CITY\n",
      "TEHACHAPI\n",
      "TERRA\n",
      "WINTER HAVEN\n"
     ]
    }
   ],
   "source": [
    "for x in employee['city'].sort_values().unique():\n",
    "    print(x)"
   ]
  },
  {
   "cell_type": "markdown",
   "metadata": {},
   "source": [
    "# Problema 6"
   ]
  },
  {
   "cell_type": "markdown",
   "metadata": {},
   "source": [
    "Imprima una lista con las ciudades del archivo `employee` ordenadas alfabéticamente indicando cuántas veces aparece cada ciudad en el archivo. Imprima una ciudad por renglón. Separe la ciudad y la cantidad por un espacio en blanco; por ejemplo: 'BELLEFONTE 3'."
   ]
  },
  {
   "cell_type": "code",
   "execution_count": 8,
   "metadata": {},
   "outputs": [
    {
     "name": "stdout",
     "output_type": "stream",
     "text": [
      "BELLEFONTE 3\n",
      "BLAINE 1\n",
      "BURNS FLAT 2\n",
      "CEDAR HILL 2\n",
      "CHANCELLOR 2\n",
      "CHARLOTTESVILLE 1\n",
      "CHESHIRE 1\n",
      "COPELAND 5\n",
      "FT MITCHELL 1\n",
      "GARRISON 2\n",
      "GRANDVIEW 2\n",
      "MANISTIQUE 2\n",
      "MONTCLAIR 3\n",
      "PAWCATUCK 4\n",
      "RIDGEFIELD 1\n",
      "RUIDOSO 1\n",
      "SANTA BARBARA 2\n",
      "SARASOTA 5\n",
      "TALLASSEE 1\n",
      "TAWAS CITY 2\n",
      "TEHACHAPI 1\n",
      "TERRA 3\n",
      "WINTER HAVEN 3\n"
     ]
    }
   ],
   "source": [
    "ciudad = employee.groupby('city').count().index\n",
    "nro = employee.groupby('city').count()['employee.id']\n",
    "for x in range (len(nro)):\n",
    "    print(str(ciudad[x]) + \" \" + str(nro[x]))"
   ]
  },
  {
   "cell_type": "markdown",
   "metadata": {},
   "source": [
    "# Problema 7"
   ]
  },
  {
   "cell_type": "markdown",
   "metadata": {},
   "source": [
    "Imprima, por cada ciudad diferente del archivo `employee`, cuántos registros quedan si se eliminan todos los registros que contienen dicha ciudad. Imprima la lista ordenada alfabéticamente. Separe la ciudad y la cantidad usando un espacio en blanco; por ejemplo: `'BELLEFONTE 47'`."
   ]
  },
  {
   "cell_type": "code",
   "execution_count": 9,
   "metadata": {},
   "outputs": [
    {
     "name": "stdout",
     "output_type": "stream",
     "text": [
      "BELLEFONTE 47\n",
      "BLAINE 49\n",
      "BURNS FLAT 48\n",
      "CEDAR HILL 48\n",
      "CHANCELLOR 48\n",
      "CHARLOTTESVILLE 49\n",
      "CHESHIRE 49\n",
      "COPELAND 45\n",
      "FT MITCHELL 49\n",
      "GARRISON 48\n",
      "GRANDVIEW 48\n",
      "MANISTIQUE 48\n",
      "MONTCLAIR 47\n",
      "PAWCATUCK 46\n",
      "RIDGEFIELD 49\n",
      "RUIDOSO 49\n",
      "SANTA BARBARA 48\n",
      "SARASOTA 45\n",
      "TALLASSEE 49\n",
      "TAWAS CITY 48\n",
      "TEHACHAPI 49\n",
      "TERRA 47\n",
      "WINTER HAVEN 47\n"
     ]
    }
   ],
   "source": [
    "ciudad = employee.groupby('city').count().index\n",
    "nro = employee.groupby('city').count()['employee.id']\n",
    "for i in range (len(nro)):\n",
    "    print(str(ciudad[i]) + \" \" + str(len(employee)-nro[i]))"
   ]
  },
  {
   "cell_type": "markdown",
   "metadata": {},
   "source": [
    "# Problema 8"
   ]
  },
  {
   "cell_type": "markdown",
   "metadata": {},
   "source": [
    "Escriba una función que reciba el nombre completo de un hijo (campo `fullname` del archivo `family`), y devuelva el primer nombre (`fullname`) del padre. "
   ]
  },
  {
   "cell_type": "code",
   "execution_count": 10,
   "metadata": {
    "collapsed": true
   },
   "outputs": [],
   "source": [
    "def f(fullname):\n",
    "    employee_id=(list(family[family['fullname']==fullname]['parent.id'])[0])\n",
    "    empleados = pandas.merge(employee, family, on=None, left_on='employee.id', right_on='parent.id')\n",
    "    return(list(empleados[empleados['employee.id']==employee_id]['fullname_x'])[0].split(\" \")[0])\n",
    "    pass"
   ]
  },
  {
   "cell_type": "code",
   "execution_count": 11,
   "metadata": {},
   "outputs": [
    {
     "name": "stdout",
     "output_type": "stream",
     "text": [
      "Jermaine\n",
      "Gerald\n",
      "Matt\n",
      "Bailey\n"
     ]
    }
   ],
   "source": [
    "###__test__\n",
    "print(f('Jean Bailey'))\n",
    "print(f('Berneice Neil'))\n",
    "print(f('Mammie Montano'))\n",
    "print(f('Nettie Beasley'))"
   ]
  },
  {
   "cell_type": "markdown",
   "metadata": {},
   "source": [
    "# Problema 9"
   ]
  },
  {
   "cell_type": "markdown",
   "metadata": {},
   "source": [
    "Escriba una función que reciba el número de orden (`order.id`) y devuelva el nombre completo (`fullname`) del empleado que la atendio."
   ]
  },
  {
   "cell_type": "code",
   "execution_count": 12,
   "metadata": {
    "collapsed": true
   },
   "outputs": [],
   "source": [
    "def f(orderid):\n",
    "    orders = [order2000,order2001,order2002,order2003,order2004,order2005,order2006,order2007,order2008,order2009,order2010,order2011,order2012,order2013,order2014,order2015,order2016]\n",
    "    orders = pandas.concat(orders)\n",
    "    employee_id=(list(orders[orders['order.id']==orderid]['employee.id'])[0])\n",
    "    empleados = pandas.merge(orders, employee, on='employee.id')\n",
    "    return(list(empleados[empleados['employee.id']==employee_id]['fullname'])[0])\n",
    "    pass"
   ]
  },
  {
   "cell_type": "code",
   "execution_count": 13,
   "metadata": {},
   "outputs": [
    {
     "name": "stdout",
     "output_type": "stream",
     "text": [
      "Christy Petry\n",
      "Damaris Parry\n",
      "Bailey Beasley\n"
     ]
    }
   ],
   "source": [
    "###__test__\n",
    "print(f(309))\n",
    "print(f(653))\n",
    "print(f(996))"
   ]
  },
  {
   "cell_type": "markdown",
   "metadata": {},
   "source": [
    "# Problema 10"
   ]
  },
  {
   "cell_type": "markdown",
   "metadata": {},
   "source": [
    "Escriba una función que reciba el número de orden (`order.id`) y devuelva el nombre completo (`fullname`) del cliente que la solicitó."
   ]
  },
  {
   "cell_type": "code",
   "execution_count": 14,
   "metadata": {
    "collapsed": true
   },
   "outputs": [],
   "source": [
    "def f(orderid):\n",
    "    orders = [order2000,order2001,order2002,order2003,order2004,order2005,order2006,order2007,order2008,order2009,order2010,order2011,order2012,order2013,order2014,order2015,order2016]\n",
    "    orders = pandas.concat(orders)\n",
    "    customer_id=(list(orders[orders['order.id']==orderid]['customer.id'])[0])\n",
    "    empleados = pandas.merge(orders, customer, on='customer.id')\n",
    "    return(list(empleados[empleados['customer.id']==customer_id]['fullname'])[0])\n",
    "    pass"
   ]
  },
  {
   "cell_type": "code",
   "execution_count": 15,
   "metadata": {},
   "outputs": [
    {
     "name": "stdout",
     "output_type": "stream",
     "text": [
      "Carmen Zimmerman\n",
      "Theodore Pernell\n",
      "Marilynn Laws\n"
     ]
    }
   ],
   "source": [
    "###__test__\n",
    "print(f(309))\n",
    "print(f(653))\n",
    "print(f(996))"
   ]
  },
  {
   "cell_type": "markdown",
   "metadata": {},
   "source": [
    "# Problema 11"
   ]
  },
  {
   "cell_type": "markdown",
   "metadata": {},
   "source": [
    "Escriba una función que reciba el nombre de un empleado (`fullname`) y retorne la cantidad de órdenes atendidas por él."
   ]
  },
  {
   "cell_type": "code",
   "execution_count": 16,
   "metadata": {
    "collapsed": true
   },
   "outputs": [],
   "source": [
    "def f(fullname):\n",
    "    employee_id=int(employee[employee[\"fullname\"]==fullname].iloc[[0],[1]].to_string(index=False,header=False))\n",
    "    orders = [order2000,order2001,order2002,order2003,order2004,order2005,order2006,order2007,order2008,order2009,order2010,order2011,order2012,order2013,order2014,order2015,order2016]\n",
    "    orders = pandas.concat(orders)\n",
    "    return len(orders[orders['employee.id']==employee_id])\n",
    "    pass"
   ]
  },
  {
   "cell_type": "code",
   "execution_count": 17,
   "metadata": {},
   "outputs": [
    {
     "name": "stdout",
     "output_type": "stream",
     "text": [
      "238\n",
      "225\n",
      "270\n"
     ]
    }
   ],
   "source": [
    "###__test__\n",
    "print(f('Christy Petry'))\n",
    "print(f('Gisela Strong'))\n",
    "print(f('Ellis Ervin'))"
   ]
  },
  {
   "cell_type": "markdown",
   "metadata": {},
   "source": [
    "# Problema 12"
   ]
  },
  {
   "cell_type": "markdown",
   "metadata": {},
   "source": [
    "Escriba una función que reciba el nombre de un empleado y retorne el valor mínino del campo `order.id` del total de ordenes que atendió. "
   ]
  },
  {
   "cell_type": "code",
   "execution_count": 18,
   "metadata": {
    "collapsed": true
   },
   "outputs": [],
   "source": [
    "def f(fullname):\n",
    "    employee_id=int(employee[employee[\"fullname\"]==fullname].iloc[[0],[1]].to_string(index=False,header=False))\n",
    "    orders = [order2000,order2001,order2002,order2003,order2004,order2005,order2006,order2007,order2008,order2009,order2010,order2011,order2012,order2013,order2014,order2015,order2016]\n",
    "    orders = pandas.concat(orders)\n",
    "    return int(orders[orders['employee.id']==employee_id].sort_values('order.id').iloc[[0],[0]].to_string(index=False,header=False))\n",
    "    pass"
   ]
  },
  {
   "cell_type": "code",
   "execution_count": 19,
   "metadata": {},
   "outputs": [
    {
     "name": "stdout",
     "output_type": "stream",
     "text": [
      "14\n",
      "27\n",
      "20\n"
     ]
    }
   ],
   "source": [
    "###__test__\n",
    "print(f('Christy Petry'))\n",
    "print(f('Gisela Strong'))\n",
    "print(f('Ellis Ervin'))"
   ]
  },
  {
   "cell_type": "markdown",
   "metadata": {},
   "source": [
    "# Problema 13"
   ]
  },
  {
   "cell_type": "markdown",
   "metadata": {},
   "source": [
    "Escriba una función que reciba el `order.id` de una orden y retorne el cálculo del valor total de la orden."
   ]
  },
  {
   "cell_type": "code",
   "execution_count": 20,
   "metadata": {
    "collapsed": true
   },
   "outputs": [],
   "source": [
    "def f(orderid):\n",
    "    orden =  orderdetail[orderdetail['order.id']==orderid].copy()\n",
    "    orden['subtotal']=orden['quantity']*orden['price']\n",
    "    return orden['subtotal'].sum()\n",
    "    pass"
   ]
  },
  {
   "cell_type": "code",
   "execution_count": 21,
   "metadata": {
    "scrolled": false
   },
   "outputs": [
    {
     "name": "stdout",
     "output_type": "stream",
     "text": [
      "2572\n",
      "2979\n",
      "9317\n"
     ]
    }
   ],
   "source": [
    "###__test__\n",
    "print(f(1))\n",
    "print(f(2))\n",
    "print(f(3))"
   ]
  },
  {
   "cell_type": "markdown",
   "metadata": {},
   "source": [
    "# Problema 14"
   ]
  },
  {
   "cell_type": "markdown",
   "metadata": {},
   "source": [
    "Imprima la cantidad de empleados que nacieron en cada uno de los trimestres (`Q1`, `Q2`, `Q3`, `Q4`) del año. Imprima un trimestre por reglón, separando las cantidades por un espacio en blanco. Por ejemplo: `'Q1 18'`. "
   ]
  },
  {
   "cell_type": "code",
   "execution_count": 22,
   "metadata": {},
   "outputs": [
    {
     "name": "stdout",
     "output_type": "stream",
     "text": [
      "Q1 16\n",
      "Q2 9\n",
      "Q3 14\n",
      "Q4 11\n"
     ]
    }
   ],
   "source": [
    "Q = {\"Q1\":0,\"Q2\":0,\"Q3\":0,\"Q4\":0}\n",
    "\n",
    "e = employee.copy()\n",
    "e['date'] = e.birthdate.apply(lambda z: z.split('+')[1])\n",
    "e['month'] = e.date.apply(lambda y: y.split('-')[1])\n",
    "Q[\"Q1\"] = len(e[e['month'].isin([\"01\", \"02\",\"03\"])])\n",
    "Q[\"Q2\"] = len(e[e['month'].isin([\"04\", \"05\",\"06\"])])\n",
    "Q[\"Q3\"] = len(e[e['month'].isin([\"07\", \"08\",\"09\"])])\n",
    "Q[\"Q4\"] = len(e[e['month'].isin([\"10\", \"11\",\"12\"])])\n",
    "\n",
    "for k in Q:\n",
    "   print(str(k) + \" \" + str(Q[k]))"
   ]
  },
  {
   "cell_type": "markdown",
   "metadata": {},
   "source": [
    "# Problema 15"
   ]
  },
  {
   "cell_type": "markdown",
   "metadata": {},
   "source": [
    "Escriba una función que reciba un grupo de cuatro dígitos e imprima la cantidad de veces que aparece dicho número en el segundo grupo de dígitos de todos los números telefónicos."
   ]
  },
  {
   "cell_type": "code",
   "execution_count": 23,
   "metadata": {
    "collapsed": true
   },
   "outputs": [],
   "source": [
    "def f(num):\n",
    "    h=[]\n",
    "    todo = [customer,employee,family,orderdetail,product,supplier,order2000,order2001,order2002,order2003,order2004,order2005,order2006,order2007,order2008,order2009,order2010,order2011,order2012,order2013,order2014,order2015,order2016].copy()\n",
    "    for i in todo:\n",
    "        if 'phone' in i:\n",
    "            h.extend(list(i.phone))\n",
    "    o = pandas.DataFrame(h)\n",
    "    o.columns=['phone']\n",
    "    o['group'] = o.phone.apply(lambda x: x.split('-')[1])\n",
    "    return len(o[o['group']==num])\n",
    "    pass"
   ]
  },
  {
   "cell_type": "code",
   "execution_count": 24,
   "metadata": {},
   "outputs": [
    {
     "name": "stdout",
     "output_type": "stream",
     "text": [
      "23\n",
      "28\n",
      "26\n"
     ]
    }
   ],
   "source": [
    "###__test__\n",
    "print(f('1289'))\n",
    "print(f('2345'))\n",
    "print(f('4876'))"
   ]
  },
  {
   "cell_type": "markdown",
   "metadata": {},
   "source": [
    "---"
   ]
  }
 ],
 "metadata": {
  "kernelspec": {
   "display_name": "Python 3",
   "language": "python",
   "name": "python3"
  },
  "language_info": {
   "codemirror_mode": {
    "name": "ipython",
    "version": 3
   },
   "file_extension": ".py",
   "mimetype": "text/x-python",
   "name": "python",
   "nbconvert_exporter": "python",
   "pygments_lexer": "ipython3",
   "version": "3.6.1"
  }
 },
 "nbformat": 4,
 "nbformat_minor": 1
}
