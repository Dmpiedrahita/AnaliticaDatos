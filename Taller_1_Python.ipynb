{
 "cells": [
  {
   "cell_type": "markdown",
   "id": "b0259146",
   "metadata": {},
   "source": [
    "# Taller Pyhon 20%\n",
    "## Resolver **3** de estos ejercicios.  \n",
    "Ingrese su nombre, número de cédula y correo en la siguiente celda como comentario."
   ]
  },
  {
   "cell_type": "code",
   "execution_count": null,
   "id": "6e7e3a00",
   "metadata": {},
   "outputs": [],
   "source": [
    "# Nombre: Daniel Muñetón Piedrahíta\n",
    "# CC: 1214721642\n",
    "# Correo: daniel_muneton92111@elpoli.edu.co"
   ]
  },
  {
   "cell_type": "markdown",
   "id": "d63a70fe",
   "metadata": {},
   "source": [
    "## Ejercicio 1\n",
    "Crear una función que dados 5 enteros positivos en una lista, encontrar el mínimo y el máximo valor calculado sumando 4 de los 5 números. Al final retornar una cadena de texto con el resultado de la mínima suma, un espacio en blanco y el resultado de la máxima suma.  \n",
    "``Ordenar``  \n",
    "**Ejemplo:**\n",
    "\n",
    "Input:  \n",
    "```arr = [9,5,7,1,3]```\n",
    "\n",
    "Output:  \n",
    "```16 24```"
   ]
  },
  {
   "cell_type": "code",
   "execution_count": 10,
   "id": "c358f856-f4b4-4950-be02-0ce962a56c88",
   "metadata": {},
   "outputs": [
    {
     "data": {
      "text/plain": [
       "'16  24'"
      ]
     },
     "execution_count": 10,
     "metadata": {},
     "output_type": "execute_result"
    }
   ],
   "source": [
    "\n",
    "def processList(arr):\n",
    "    minNum = min(arr)\n",
    "    maxNum = max(arr)\n",
    "    maxSum = 0\n",
    "    minSum = 0\n",
    "    \n",
    "    for num in arr:\n",
    "        minSum += num\n",
    "        maxSum += num\n",
    "        if(num == minNum):\n",
    "            maxSum -= num\n",
    "        if(num == maxNum):\n",
    "            minSum -= num\n",
    "    return f\"{minSum}  {maxSum}\"\n",
    "       \n",
    "arr = [9, 5, 7, 1, 3]        \n",
    "processList(arr)"
   ]
  },
  {
   "cell_type": "markdown",
   "id": "4a3f6743",
   "metadata": {},
   "source": [
    "## Ejercicio 2\n",
    "Crear una función que dada una cadena texto con la hora en formato AM/PM, convertirlo a formato de 24HRs y retornar la nueva cadena de texto.\n",
    "``\n",
    "\"1:2:3:4\".split(\":\") -> [\"1\",\"2\",\"3\",int(\"4\")]\n",
    "``  \n",
    "Nota:\n",
    "- 12:00:00AM en formato AM/PM es 00:00:00 en formato de 24HRs.\n",
    "- 12:00:00PM en formato AM/PM es 12:00:00 en formato de 24HRs.\n",
    "\n",
    "**Ejemplo:**\n",
    "\n",
    "Input:  \n",
    "```s = '12:01:00PM'```\n",
    "\n",
    "Output:  \n",
    "```'12:01:00'```\n",
    "---\n",
    "Input:  \n",
    "```s = '12:01:00AM'```\n",
    "\n",
    "Output:  \n",
    "```'00:01:00'```"
   ]
  },
  {
   "cell_type": "code",
   "execution_count": null,
   "id": "f5b9ba1e-9386-43e3-b9ad-c47f8fceb8ec",
   "metadata": {},
   "outputs": [
    {
     "name": "stdout",
     "output_type": "stream",
     "text": [
      "13\n",
      "13:01:00\n"
     ]
    }
   ],
   "source": [
    "def formatDate(date):\n",
    "    strSplit = date.split(\":\")\n",
    "    \n",
    "    if \"PM\" in strSplit[2] and int(strSplit[0]) < 12:\n",
    "        hour = int(strSplit[0]) + 12\n",
    "    if \"AM\" in strSplit[2] and int(strSplit[0]) == 12:\n",
    "        hour = \"00\"\n",
    "    minutes = strSplit[1]    \n",
    "    seconds = strSplit[2] = strSplit[2].replace(\"AM\", \"\").replace(\"PM\", \"\")    \n",
    "    time = str(str(hour) + \":\" + minutes + \":\" + seconds)\n",
    "    return time\n",
    "    \n",
    "time = formatDate(\"01:01:00PM\")  \n",
    "print (f\"{time}\")    "
   ]
  },
  {
   "cell_type": "markdown",
   "id": "1fe38e83",
   "metadata": {},
   "source": [
    "## Ejercicio 3\n",
    "Crear una función que dada una lista de ```n``` enteros donde todos los elementos aparecen dos veces a excepción de uno, encuentre el elemento único y retornelo.\n",
    "\n",
    "**Ejemplo:**  \n",
    "  \n",
    "Input:  \n",
    "```arr = [1,2,3,4,3,2,1]```\n",
    "  \n",
    "Output:  \n",
    "```4```"
   ]
  },
  {
   "cell_type": "code",
   "execution_count": 25,
   "id": "5b5a6644-07ce-40d7-8ae7-94043da333c2",
   "metadata": {},
   "outputs": [
    {
     "name": "stdout",
     "output_type": "stream",
     "text": [
      "4\n"
     ]
    }
   ],
   "source": [
    "def duplicates(arr):\n",
    "    dic = {}\n",
    "    for num in arr:\n",
    "        dic[num] = dic.get(num, 0) + 1\n",
    "    \n",
    "    for num, freq in dic.items():\n",
    "        if freq == 1:\n",
    "            return num\n",
    "arr = [1,2,3,4,3,2,1]     \n",
    "print(duplicates(arr))"
   ]
  },
  {
   "cell_type": "markdown",
   "id": "c7ef1f98",
   "metadata": {},
   "source": [
    "## Ejercicio 4\n",
    "### Counting Valleys\n",
    "\n",
    "An avid hiker keeps meticulous records of their hikes. During the last hike that took ```n``` steps, for every step it was noted if it was an uphill,```U``` , or a downhill, ```D``` step. Hikes always start and end at sea level, and each step up or down represents a ```1``` unit change in altitude. We define the following terms:\n",
    "\n",
    "- A mountain is a sequence of consecutive steps above sea level, starting with a step up from sea level and ending with a step down to sea level.\n",
    "- A valley is a sequence of consecutive steps below sea level, starting with a step down from sea level and ending with a step up to sea level.\n",
    "\n",
    "Given the sequence of up and down steps during a hike, find and return the number of valleys walked through. \n",
    "\n",
    "Example:\n",
    "\n",
    "Input:  \n",
    "```path = 'DDUUUUDD'```  \n",
    "  \n",
    "Output:\n",
    "```1```  \n",
    "\n",
    "Input:  \n",
    "```path = 'UDDDUDUUDUUD'```  \n",
    "  \n",
    "Output:\n",
    "```2```  \n",
    "\n",
    "Representation:\n",
    "\n",
    "    _/\\      _  /\\_\n",
    "       \\    / \\/\n",
    "        \\/\\/"
   ]
  },
  {
   "cell_type": "code",
   "execution_count": 2,
   "id": "bed56773",
   "metadata": {},
   "outputs": [
    {
     "name": "stdout",
     "output_type": "stream",
     "text": [
      "2\n",
      "1\n"
     ]
    }
   ],
   "source": [
    "def numberValleys(steps):\n",
    "    trace = 0\n",
    "    valleys = 0\n",
    "    for step in steps:\n",
    "        if step == \"D\":\n",
    "            trace -= 1\n",
    "            if trace == -1:\n",
    "                valleys += 1\n",
    "        if step == \"U\":\n",
    "            trace += 1\n",
    "    return valleys\n",
    "\n",
    "print(numberValleys('UDDDUDUUDUUD'))\n",
    "print(numberValleys('DDUUUUDD'))"
   ]
  }
 ],
 "metadata": {
  "kernelspec": {
   "display_name": "Python 3",
   "language": "python",
   "name": "python3"
  },
  "language_info": {
   "codemirror_mode": {
    "name": "ipython",
    "version": 3
   },
   "file_extension": ".py",
   "mimetype": "text/x-python",
   "name": "python",
   "nbconvert_exporter": "python",
   "pygments_lexer": "ipython3",
   "version": "3.13.7"
  }
 },
 "nbformat": 4,
 "nbformat_minor": 5
}
